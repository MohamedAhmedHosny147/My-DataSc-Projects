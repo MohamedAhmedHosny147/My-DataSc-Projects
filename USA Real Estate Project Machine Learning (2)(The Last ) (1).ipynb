{
  "cells": [
    {
      "cell_type": "code",
      "execution_count": 2,
      "metadata": {
        "id": "rTK869D8E6IJ"
      },
      "outputs": [],
      "source": [
        "import numpy as np\n",
        "import pandas as pd\n",
        "import seaborn as sns\n",
        "import matplotlib.pyplot as plt"
      ]
    },
    {
      "cell_type": "code",
      "execution_count": 3,
      "metadata": {},
      "outputs": [
        {
          "name": "stdout",
          "output_type": "stream",
          "text": [
            "1.4.2\n"
          ]
        }
      ],
      "source": [
        "import sklearn \n",
        "print (sklearn.__version__)"
      ]
    },
    {
      "cell_type": "code",
      "execution_count": 4,
      "metadata": {},
      "outputs": [],
      "source": [
        "import tensorflow as tf\n",
        "from tensorflow.keras.models import Sequential\n",
        "from tensorflow.keras.layers import Dense\n",
        "from sklearn.model_selection import train_test_split\n",
        "from sklearn.preprocessing import StandardScaler\n",
        "from sklearn.metrics import mean_absolute_error, mean_squared_error, r2_score"
      ]
    },
    {
      "cell_type": "markdown",
      "metadata": {
        "id": "xd8_iTXeIiBW"
      },
      "source": [
        "# EDA & Data Understanding"
      ]
    },
    {
      "cell_type": "code",
      "execution_count": 5,
      "metadata": {
        "id": "8UKI1dV9G5EP"
      },
      "outputs": [
        {
          "data": {
            "text/html": [
              "<div>\n",
              "<style scoped>\n",
              "    .dataframe tbody tr th:only-of-type {\n",
              "        vertical-align: middle;\n",
              "    }\n",
              "\n",
              "    .dataframe tbody tr th {\n",
              "        vertical-align: top;\n",
              "    }\n",
              "\n",
              "    .dataframe thead th {\n",
              "        text-align: right;\n",
              "    }\n",
              "</style>\n",
              "<table border=\"1\" class=\"dataframe\">\n",
              "  <thead>\n",
              "    <tr style=\"text-align: right;\">\n",
              "      <th></th>\n",
              "      <th>brokered_by</th>\n",
              "      <th>status</th>\n",
              "      <th>price</th>\n",
              "      <th>bed</th>\n",
              "      <th>bath</th>\n",
              "      <th>acre_lot</th>\n",
              "      <th>street</th>\n",
              "      <th>city</th>\n",
              "      <th>state</th>\n",
              "      <th>zip_code</th>\n",
              "      <th>house_size</th>\n",
              "      <th>prev_sold_date</th>\n",
              "    </tr>\n",
              "  </thead>\n",
              "  <tbody>\n",
              "    <tr>\n",
              "      <th>0</th>\n",
              "      <td>103378.0</td>\n",
              "      <td>for_sale</td>\n",
              "      <td>105000.0</td>\n",
              "      <td>3.0</td>\n",
              "      <td>2.0</td>\n",
              "      <td>0.12</td>\n",
              "      <td>1962661.0</td>\n",
              "      <td>Adjuntas</td>\n",
              "      <td>Puerto Rico</td>\n",
              "      <td>601.0</td>\n",
              "      <td>920.0</td>\n",
              "      <td>NaN</td>\n",
              "    </tr>\n",
              "    <tr>\n",
              "      <th>1</th>\n",
              "      <td>52707.0</td>\n",
              "      <td>for_sale</td>\n",
              "      <td>80000.0</td>\n",
              "      <td>4.0</td>\n",
              "      <td>2.0</td>\n",
              "      <td>0.08</td>\n",
              "      <td>1902874.0</td>\n",
              "      <td>Adjuntas</td>\n",
              "      <td>Puerto Rico</td>\n",
              "      <td>601.0</td>\n",
              "      <td>1527.0</td>\n",
              "      <td>NaN</td>\n",
              "    </tr>\n",
              "    <tr>\n",
              "      <th>2</th>\n",
              "      <td>103379.0</td>\n",
              "      <td>for_sale</td>\n",
              "      <td>67000.0</td>\n",
              "      <td>2.0</td>\n",
              "      <td>1.0</td>\n",
              "      <td>0.15</td>\n",
              "      <td>1404990.0</td>\n",
              "      <td>Juana Diaz</td>\n",
              "      <td>Puerto Rico</td>\n",
              "      <td>795.0</td>\n",
              "      <td>748.0</td>\n",
              "      <td>NaN</td>\n",
              "    </tr>\n",
              "    <tr>\n",
              "      <th>3</th>\n",
              "      <td>31239.0</td>\n",
              "      <td>for_sale</td>\n",
              "      <td>145000.0</td>\n",
              "      <td>4.0</td>\n",
              "      <td>2.0</td>\n",
              "      <td>0.10</td>\n",
              "      <td>1947675.0</td>\n",
              "      <td>Ponce</td>\n",
              "      <td>Puerto Rico</td>\n",
              "      <td>731.0</td>\n",
              "      <td>1800.0</td>\n",
              "      <td>NaN</td>\n",
              "    </tr>\n",
              "    <tr>\n",
              "      <th>4</th>\n",
              "      <td>34632.0</td>\n",
              "      <td>for_sale</td>\n",
              "      <td>65000.0</td>\n",
              "      <td>6.0</td>\n",
              "      <td>2.0</td>\n",
              "      <td>0.05</td>\n",
              "      <td>331151.0</td>\n",
              "      <td>Mayaguez</td>\n",
              "      <td>Puerto Rico</td>\n",
              "      <td>680.0</td>\n",
              "      <td>NaN</td>\n",
              "      <td>NaN</td>\n",
              "    </tr>\n",
              "    <tr>\n",
              "      <th>...</th>\n",
              "      <td>...</td>\n",
              "      <td>...</td>\n",
              "      <td>...</td>\n",
              "      <td>...</td>\n",
              "      <td>...</td>\n",
              "      <td>...</td>\n",
              "      <td>...</td>\n",
              "      <td>...</td>\n",
              "      <td>...</td>\n",
              "      <td>...</td>\n",
              "      <td>...</td>\n",
              "      <td>...</td>\n",
              "    </tr>\n",
              "    <tr>\n",
              "      <th>2226377</th>\n",
              "      <td>23009.0</td>\n",
              "      <td>sold</td>\n",
              "      <td>359900.0</td>\n",
              "      <td>4.0</td>\n",
              "      <td>2.0</td>\n",
              "      <td>0.33</td>\n",
              "      <td>353094.0</td>\n",
              "      <td>Richland</td>\n",
              "      <td>Washington</td>\n",
              "      <td>99354.0</td>\n",
              "      <td>3600.0</td>\n",
              "      <td>2022-03-25</td>\n",
              "    </tr>\n",
              "    <tr>\n",
              "      <th>2226378</th>\n",
              "      <td>18208.0</td>\n",
              "      <td>sold</td>\n",
              "      <td>350000.0</td>\n",
              "      <td>3.0</td>\n",
              "      <td>2.0</td>\n",
              "      <td>0.10</td>\n",
              "      <td>1062149.0</td>\n",
              "      <td>Richland</td>\n",
              "      <td>Washington</td>\n",
              "      <td>99354.0</td>\n",
              "      <td>1616.0</td>\n",
              "      <td>2022-03-25</td>\n",
              "    </tr>\n",
              "    <tr>\n",
              "      <th>2226379</th>\n",
              "      <td>76856.0</td>\n",
              "      <td>sold</td>\n",
              "      <td>440000.0</td>\n",
              "      <td>6.0</td>\n",
              "      <td>3.0</td>\n",
              "      <td>0.50</td>\n",
              "      <td>405677.0</td>\n",
              "      <td>Richland</td>\n",
              "      <td>Washington</td>\n",
              "      <td>99354.0</td>\n",
              "      <td>3200.0</td>\n",
              "      <td>2022-03-24</td>\n",
              "    </tr>\n",
              "    <tr>\n",
              "      <th>2226380</th>\n",
              "      <td>53618.0</td>\n",
              "      <td>sold</td>\n",
              "      <td>179900.0</td>\n",
              "      <td>2.0</td>\n",
              "      <td>1.0</td>\n",
              "      <td>0.09</td>\n",
              "      <td>761379.0</td>\n",
              "      <td>Richland</td>\n",
              "      <td>Washington</td>\n",
              "      <td>99354.0</td>\n",
              "      <td>933.0</td>\n",
              "      <td>2022-03-24</td>\n",
              "    </tr>\n",
              "    <tr>\n",
              "      <th>2226381</th>\n",
              "      <td>108243.0</td>\n",
              "      <td>sold</td>\n",
              "      <td>580000.0</td>\n",
              "      <td>5.0</td>\n",
              "      <td>3.0</td>\n",
              "      <td>0.31</td>\n",
              "      <td>307704.0</td>\n",
              "      <td>Richland</td>\n",
              "      <td>Washington</td>\n",
              "      <td>99354.0</td>\n",
              "      <td>3615.0</td>\n",
              "      <td>2022-03-23</td>\n",
              "    </tr>\n",
              "  </tbody>\n",
              "</table>\n",
              "<p>2226382 rows × 12 columns</p>\n",
              "</div>"
            ],
            "text/plain": [
              "         brokered_by    status     price  bed  bath  acre_lot     street  \\\n",
              "0           103378.0  for_sale  105000.0  3.0   2.0      0.12  1962661.0   \n",
              "1            52707.0  for_sale   80000.0  4.0   2.0      0.08  1902874.0   \n",
              "2           103379.0  for_sale   67000.0  2.0   1.0      0.15  1404990.0   \n",
              "3            31239.0  for_sale  145000.0  4.0   2.0      0.10  1947675.0   \n",
              "4            34632.0  for_sale   65000.0  6.0   2.0      0.05   331151.0   \n",
              "...              ...       ...       ...  ...   ...       ...        ...   \n",
              "2226377      23009.0      sold  359900.0  4.0   2.0      0.33   353094.0   \n",
              "2226378      18208.0      sold  350000.0  3.0   2.0      0.10  1062149.0   \n",
              "2226379      76856.0      sold  440000.0  6.0   3.0      0.50   405677.0   \n",
              "2226380      53618.0      sold  179900.0  2.0   1.0      0.09   761379.0   \n",
              "2226381     108243.0      sold  580000.0  5.0   3.0      0.31   307704.0   \n",
              "\n",
              "               city        state  zip_code  house_size prev_sold_date  \n",
              "0          Adjuntas  Puerto Rico     601.0       920.0            NaN  \n",
              "1          Adjuntas  Puerto Rico     601.0      1527.0            NaN  \n",
              "2        Juana Diaz  Puerto Rico     795.0       748.0            NaN  \n",
              "3             Ponce  Puerto Rico     731.0      1800.0            NaN  \n",
              "4          Mayaguez  Puerto Rico     680.0         NaN            NaN  \n",
              "...             ...          ...       ...         ...            ...  \n",
              "2226377    Richland   Washington   99354.0      3600.0     2022-03-25  \n",
              "2226378    Richland   Washington   99354.0      1616.0     2022-03-25  \n",
              "2226379    Richland   Washington   99354.0      3200.0     2022-03-24  \n",
              "2226380    Richland   Washington   99354.0       933.0     2022-03-24  \n",
              "2226381    Richland   Washington   99354.0      3615.0     2022-03-23  \n",
              "\n",
              "[2226382 rows x 12 columns]"
            ]
          },
          "execution_count": 5,
          "metadata": {},
          "output_type": "execute_result"
        }
      ],
      "source": [
        "df= pd.read_csv(r'C:\\Users\\OSAMA AHMED\\Desktop\\The Final Project For Data Science ( USA Real Estate)\\realtor-data.zip.csv')\n",
        "df"
      ]
    },
    {
      "cell_type": "code",
      "execution_count": 6,
      "metadata": {
        "colab": {
          "base_uri": "https://localhost:8080/",
          "height": 313
        },
        "id": "wklNAmsZKR04",
        "outputId": "13a672aa-55cd-4473-8ee8-3c87a00ecd9d"
      },
      "outputs": [
        {
          "data": {
            "text/html": [
              "<div>\n",
              "<style scoped>\n",
              "    .dataframe tbody tr th:only-of-type {\n",
              "        vertical-align: middle;\n",
              "    }\n",
              "\n",
              "    .dataframe tbody tr th {\n",
              "        vertical-align: top;\n",
              "    }\n",
              "\n",
              "    .dataframe thead th {\n",
              "        text-align: right;\n",
              "    }\n",
              "</style>\n",
              "<table border=\"1\" class=\"dataframe\">\n",
              "  <thead>\n",
              "    <tr style=\"text-align: right;\">\n",
              "      <th></th>\n",
              "      <th>brokered_by</th>\n",
              "      <th>status</th>\n",
              "      <th>price</th>\n",
              "      <th>bed</th>\n",
              "      <th>bath</th>\n",
              "      <th>acre_lot</th>\n",
              "      <th>street</th>\n",
              "      <th>city</th>\n",
              "      <th>state</th>\n",
              "      <th>zip_code</th>\n",
              "      <th>house_size</th>\n",
              "      <th>prev_sold_date</th>\n",
              "    </tr>\n",
              "  </thead>\n",
              "  <tbody>\n",
              "    <tr>\n",
              "      <th>0</th>\n",
              "      <td>103378.0</td>\n",
              "      <td>for_sale</td>\n",
              "      <td>105000.0</td>\n",
              "      <td>3.0</td>\n",
              "      <td>2.0</td>\n",
              "      <td>0.12</td>\n",
              "      <td>1962661.0</td>\n",
              "      <td>Adjuntas</td>\n",
              "      <td>Puerto Rico</td>\n",
              "      <td>601.0</td>\n",
              "      <td>920.0</td>\n",
              "      <td>NaN</td>\n",
              "    </tr>\n",
              "    <tr>\n",
              "      <th>1</th>\n",
              "      <td>52707.0</td>\n",
              "      <td>for_sale</td>\n",
              "      <td>80000.0</td>\n",
              "      <td>4.0</td>\n",
              "      <td>2.0</td>\n",
              "      <td>0.08</td>\n",
              "      <td>1902874.0</td>\n",
              "      <td>Adjuntas</td>\n",
              "      <td>Puerto Rico</td>\n",
              "      <td>601.0</td>\n",
              "      <td>1527.0</td>\n",
              "      <td>NaN</td>\n",
              "    </tr>\n",
              "    <tr>\n",
              "      <th>2</th>\n",
              "      <td>103379.0</td>\n",
              "      <td>for_sale</td>\n",
              "      <td>67000.0</td>\n",
              "      <td>2.0</td>\n",
              "      <td>1.0</td>\n",
              "      <td>0.15</td>\n",
              "      <td>1404990.0</td>\n",
              "      <td>Juana Diaz</td>\n",
              "      <td>Puerto Rico</td>\n",
              "      <td>795.0</td>\n",
              "      <td>748.0</td>\n",
              "      <td>NaN</td>\n",
              "    </tr>\n",
              "    <tr>\n",
              "      <th>3</th>\n",
              "      <td>31239.0</td>\n",
              "      <td>for_sale</td>\n",
              "      <td>145000.0</td>\n",
              "      <td>4.0</td>\n",
              "      <td>2.0</td>\n",
              "      <td>0.10</td>\n",
              "      <td>1947675.0</td>\n",
              "      <td>Ponce</td>\n",
              "      <td>Puerto Rico</td>\n",
              "      <td>731.0</td>\n",
              "      <td>1800.0</td>\n",
              "      <td>NaN</td>\n",
              "    </tr>\n",
              "    <tr>\n",
              "      <th>4</th>\n",
              "      <td>34632.0</td>\n",
              "      <td>for_sale</td>\n",
              "      <td>65000.0</td>\n",
              "      <td>6.0</td>\n",
              "      <td>2.0</td>\n",
              "      <td>0.05</td>\n",
              "      <td>331151.0</td>\n",
              "      <td>Mayaguez</td>\n",
              "      <td>Puerto Rico</td>\n",
              "      <td>680.0</td>\n",
              "      <td>NaN</td>\n",
              "      <td>NaN</td>\n",
              "    </tr>\n",
              "  </tbody>\n",
              "</table>\n",
              "</div>"
            ],
            "text/plain": [
              "   brokered_by    status     price  bed  bath  acre_lot     street  \\\n",
              "0     103378.0  for_sale  105000.0  3.0   2.0      0.12  1962661.0   \n",
              "1      52707.0  for_sale   80000.0  4.0   2.0      0.08  1902874.0   \n",
              "2     103379.0  for_sale   67000.0  2.0   1.0      0.15  1404990.0   \n",
              "3      31239.0  for_sale  145000.0  4.0   2.0      0.10  1947675.0   \n",
              "4      34632.0  for_sale   65000.0  6.0   2.0      0.05   331151.0   \n",
              "\n",
              "         city        state  zip_code  house_size prev_sold_date  \n",
              "0    Adjuntas  Puerto Rico     601.0       920.0            NaN  \n",
              "1    Adjuntas  Puerto Rico     601.0      1527.0            NaN  \n",
              "2  Juana Diaz  Puerto Rico     795.0       748.0            NaN  \n",
              "3       Ponce  Puerto Rico     731.0      1800.0            NaN  \n",
              "4    Mayaguez  Puerto Rico     680.0         NaN            NaN  "
            ]
          },
          "execution_count": 6,
          "metadata": {},
          "output_type": "execute_result"
        }
      ],
      "source": [
        "df.head(5)"
      ]
    },
    {
      "cell_type": "code",
      "execution_count": 7,
      "metadata": {
        "colab": {
          "base_uri": "https://localhost:8080/"
        },
        "id": "jn6N7tceKWrn",
        "outputId": "9a62be9b-cca0-4d21-b921-4ffdba42e771"
      },
      "outputs": [
        {
          "data": {
            "text/plain": [
              "Index(['brokered_by', 'status', 'price', 'bed', 'bath', 'acre_lot', 'street',\n",
              "       'city', 'state', 'zip_code', 'house_size', 'prev_sold_date'],\n",
              "      dtype='object')"
            ]
          },
          "execution_count": 7,
          "metadata": {},
          "output_type": "execute_result"
        }
      ],
      "source": [
        "# check columns\n",
        "df.columns"
      ]
    },
    {
      "cell_type": "code",
      "execution_count": 8,
      "metadata": {},
      "outputs": [
        {
          "data": {
            "text/html": [
              "<div>\n",
              "<style scoped>\n",
              "    .dataframe tbody tr th:only-of-type {\n",
              "        vertical-align: middle;\n",
              "    }\n",
              "\n",
              "    .dataframe tbody tr th {\n",
              "        vertical-align: top;\n",
              "    }\n",
              "\n",
              "    .dataframe thead th {\n",
              "        text-align: right;\n",
              "    }\n",
              "</style>\n",
              "<table border=\"1\" class=\"dataframe\">\n",
              "  <thead>\n",
              "    <tr style=\"text-align: right;\">\n",
              "      <th></th>\n",
              "      <th>brokered_by</th>\n",
              "      <th>status</th>\n",
              "      <th>price</th>\n",
              "      <th>bed</th>\n",
              "      <th>bath</th>\n",
              "      <th>acre_lot</th>\n",
              "      <th>city</th>\n",
              "      <th>state</th>\n",
              "      <th>house_size</th>\n",
              "      <th>prev_sold_date</th>\n",
              "    </tr>\n",
              "  </thead>\n",
              "  <tbody>\n",
              "    <tr>\n",
              "      <th>0</th>\n",
              "      <td>103378.0</td>\n",
              "      <td>for_sale</td>\n",
              "      <td>105000.0</td>\n",
              "      <td>3.0</td>\n",
              "      <td>2.0</td>\n",
              "      <td>0.12</td>\n",
              "      <td>Adjuntas</td>\n",
              "      <td>Puerto Rico</td>\n",
              "      <td>920.0</td>\n",
              "      <td>NaN</td>\n",
              "    </tr>\n",
              "    <tr>\n",
              "      <th>1</th>\n",
              "      <td>52707.0</td>\n",
              "      <td>for_sale</td>\n",
              "      <td>80000.0</td>\n",
              "      <td>4.0</td>\n",
              "      <td>2.0</td>\n",
              "      <td>0.08</td>\n",
              "      <td>Adjuntas</td>\n",
              "      <td>Puerto Rico</td>\n",
              "      <td>1527.0</td>\n",
              "      <td>NaN</td>\n",
              "    </tr>\n",
              "    <tr>\n",
              "      <th>2</th>\n",
              "      <td>103379.0</td>\n",
              "      <td>for_sale</td>\n",
              "      <td>67000.0</td>\n",
              "      <td>2.0</td>\n",
              "      <td>1.0</td>\n",
              "      <td>0.15</td>\n",
              "      <td>Juana Diaz</td>\n",
              "      <td>Puerto Rico</td>\n",
              "      <td>748.0</td>\n",
              "      <td>NaN</td>\n",
              "    </tr>\n",
              "    <tr>\n",
              "      <th>3</th>\n",
              "      <td>31239.0</td>\n",
              "      <td>for_sale</td>\n",
              "      <td>145000.0</td>\n",
              "      <td>4.0</td>\n",
              "      <td>2.0</td>\n",
              "      <td>0.10</td>\n",
              "      <td>Ponce</td>\n",
              "      <td>Puerto Rico</td>\n",
              "      <td>1800.0</td>\n",
              "      <td>NaN</td>\n",
              "    </tr>\n",
              "    <tr>\n",
              "      <th>4</th>\n",
              "      <td>34632.0</td>\n",
              "      <td>for_sale</td>\n",
              "      <td>65000.0</td>\n",
              "      <td>6.0</td>\n",
              "      <td>2.0</td>\n",
              "      <td>0.05</td>\n",
              "      <td>Mayaguez</td>\n",
              "      <td>Puerto Rico</td>\n",
              "      <td>NaN</td>\n",
              "      <td>NaN</td>\n",
              "    </tr>\n",
              "  </tbody>\n",
              "</table>\n",
              "</div>"
            ],
            "text/plain": [
              "   brokered_by    status     price  bed  bath  acre_lot        city  \\\n",
              "0     103378.0  for_sale  105000.0  3.0   2.0      0.12    Adjuntas   \n",
              "1      52707.0  for_sale   80000.0  4.0   2.0      0.08    Adjuntas   \n",
              "2     103379.0  for_sale   67000.0  2.0   1.0      0.15  Juana Diaz   \n",
              "3      31239.0  for_sale  145000.0  4.0   2.0      0.10       Ponce   \n",
              "4      34632.0  for_sale   65000.0  6.0   2.0      0.05    Mayaguez   \n",
              "\n",
              "         state  house_size prev_sold_date  \n",
              "0  Puerto Rico       920.0            NaN  \n",
              "1  Puerto Rico      1527.0            NaN  \n",
              "2  Puerto Rico       748.0            NaN  \n",
              "3  Puerto Rico      1800.0            NaN  \n",
              "4  Puerto Rico         NaN            NaN  "
            ]
          },
          "execution_count": 8,
          "metadata": {},
          "output_type": "execute_result"
        }
      ],
      "source": [
        "# drop the columns zip_code and street\n",
        "df.drop(['zip_code', 'street'], axis = 1, inplace = True)\n",
        "df.head(5)"
      ]
    },
    {
      "cell_type": "code",
      "execution_count": 9,
      "metadata": {
        "colab": {
          "base_uri": "https://localhost:8080/",
          "height": 210
        },
        "id": "F-Jnbe-OK5xJ",
        "outputId": "cc59acec-f393-4d0c-ce9a-e37d9c81957a"
      },
      "outputs": [
        {
          "data": {
            "text/plain": [
              "status\n",
              "for_sale          1389306\n",
              "sold               812009\n",
              "ready_to_build      25067\n",
              "Name: count, dtype: int64"
            ]
          },
          "execution_count": 9,
          "metadata": {},
          "output_type": "execute_result"
        }
      ],
      "source": [
        "# check stsatus values \n",
        "df['status'].value_counts()"
      ]
    },
    {
      "cell_type": "code",
      "execution_count": 10,
      "metadata": {
        "colab": {
          "base_uri": "https://localhost:8080/",
          "height": 490
        },
        "id": "nVQ-WbVPLI03",
        "outputId": "d0b936f9-4c67-4308-e084-7b5fde8685fa"
      },
      "outputs": [
        {
          "data": {
            "text/plain": [
              "brokered_by\n",
              "22611.0    45658\n",
              "16829.0    27732\n",
              "53016.0    21709\n",
              "23592.0     9176\n",
              "30807.0     8464\n",
              "           ...  \n",
              "36774.0        1\n",
              "88410.0        1\n",
              "92528.0        1\n",
              "76894.0        1\n",
              "98730.0        1\n",
              "Name: count, Length: 110143, dtype: int64"
            ]
          },
          "execution_count": 10,
          "metadata": {},
          "output_type": "execute_result"
        }
      ],
      "source": [
        "# check brokered_by values\n",
        "df['brokered_by'].value_counts()"
      ]
    },
    {
      "cell_type": "code",
      "execution_count": 11,
      "metadata": {},
      "outputs": [
        {
          "data": {
            "text/plain": [
              "city\n",
              "Houston                        23862\n",
              "Chicago                        18238\n",
              "New York City                  12634\n",
              "Jacksonville                   11743\n",
              "Philadelphia                   10449\n",
              "                               ...  \n",
              "Angel Ifre                         1\n",
              "Colfax County Moreno Valley        1\n",
              "Little Sioux                       1\n",
              "Trementina                         1\n",
              "Kahlotus                           1\n",
              "Name: count, Length: 20098, dtype: int64"
            ]
          },
          "execution_count": 11,
          "metadata": {},
          "output_type": "execute_result"
        }
      ],
      "source": [
        "# check city values\n",
        "df['city'].value_counts()"
      ]
    },
    {
      "cell_type": "code",
      "execution_count": 12,
      "metadata": {},
      "outputs": [
        {
          "data": {
            "text/plain": [
              "state\n",
              "Florida                 249432\n",
              "California              227215\n",
              "Texas                   208335\n",
              "New York                103159\n",
              "North Carolina           85745\n",
              "Illinois                 85280\n",
              "Georgia                  80977\n",
              "Pennsylvania             78373\n",
              "Arizona                  72825\n",
              "Virginia                 68763\n",
              "Washington               62461\n",
              "Ohio                     59207\n",
              "New Jersey               48199\n",
              "Maryland                 46052\n",
              "Missouri                 45145\n",
              "Minnesota                43412\n",
              "Michigan                 42429\n",
              "Wisconsin                42390\n",
              "South Carolina           42367\n",
              "Tennessee                40964\n",
              "Massachusetts            38041\n",
              "Oklahoma                 37140\n",
              "Alabama                  34053\n",
              "Colorado                 32293\n",
              "Oregon                   32163\n",
              "Kentucky                 26316\n",
              "Louisiana                25815\n",
              "Arkansas                 23045\n",
              "Iowa                     23033\n",
              "New Mexico               21074\n",
              "Indiana                  18840\n",
              "Idaho                    16760\n",
              "Mississippi              16255\n",
              "Kansas                   14858\n",
              "Nevada                   14667\n",
              "Utah                     14557\n",
              "Connecticut              14008\n",
              "West Virginia            12309\n",
              "Montana                  10059\n",
              "Delaware                  8628\n",
              "Rhode Island              8157\n",
              "Hawaii                    7243\n",
              "District of Columbia      6625\n",
              "Nebraska                  6309\n",
              "Maine                     5065\n",
              "South Dakota              4690\n",
              "North Dakota              4268\n",
              "Wyoming                   4039\n",
              "New Hampshire             3642\n",
              "Puerto Rico               3126\n",
              "Vermont                   2600\n",
              "Alaska                    2581\n",
              "Virgin Islands             895\n",
              "Guam                       489\n",
              "New Brunswick                1\n",
              "Name: count, dtype: int64"
            ]
          },
          "execution_count": 12,
          "metadata": {},
          "output_type": "execute_result"
        }
      ],
      "source": [
        "# check state values\n",
        "df['state'].value_counts()"
      ]
    },
    {
      "cell_type": "code",
      "execution_count": 13,
      "metadata": {},
      "outputs": [
        {
          "name": "stdout",
          "output_type": "stream",
          "text": [
            "<class 'pandas.core.frame.DataFrame'>\n",
            "RangeIndex: 2226382 entries, 0 to 2226381\n",
            "Data columns (total 10 columns):\n",
            " #   Column          Dtype  \n",
            "---  ------          -----  \n",
            " 0   brokered_by     float64\n",
            " 1   status          object \n",
            " 2   price           float64\n",
            " 3   bed             float64\n",
            " 4   bath            float64\n",
            " 5   acre_lot        float64\n",
            " 6   city            object \n",
            " 7   state           object \n",
            " 8   house_size      float64\n",
            " 9   prev_sold_date  object \n",
            "dtypes: float64(6), object(4)\n",
            "memory usage: 169.9+ MB\n"
          ]
        }
      ],
      "source": [
        "# check the info and data types\n",
        "df.info()"
      ]
    },
    {
      "cell_type": "code",
      "execution_count": 14,
      "metadata": {},
      "outputs": [
        {
          "data": {
            "text/plain": [
              "(2226382, 10)"
            ]
          },
          "execution_count": 14,
          "metadata": {},
          "output_type": "execute_result"
        }
      ],
      "source": [
        "# check shape\n",
        "df.shape"
      ]
    },
    {
      "cell_type": "code",
      "execution_count": 15,
      "metadata": {
        "colab": {
          "base_uri": "https://localhost:8080/"
        },
        "id": "p5Wwy1anIQGW",
        "outputId": "71c13d29-0cb6-46aa-87bd-7c166f879f5a"
      },
      "outputs": [
        {
          "data": {
            "text/plain": [
              "48005"
            ]
          },
          "execution_count": 15,
          "metadata": {},
          "output_type": "execute_result"
        }
      ],
      "source": [
        "# check duplicate\n",
        "df.duplicated().sum()"
      ]
    },
    {
      "cell_type": "code",
      "execution_count": 16,
      "metadata": {
        "colab": {
          "base_uri": "https://localhost:8080/",
          "height": 788
        },
        "id": "0f8kNlF2OJtN",
        "outputId": "b26764cc-d480-4307-e1ed-bd2638ab2904"
      },
      "outputs": [
        {
          "data": {
            "text/html": [
              "<div>\n",
              "<style scoped>\n",
              "    .dataframe tbody tr th:only-of-type {\n",
              "        vertical-align: middle;\n",
              "    }\n",
              "\n",
              "    .dataframe tbody tr th {\n",
              "        vertical-align: top;\n",
              "    }\n",
              "\n",
              "    .dataframe thead th {\n",
              "        text-align: right;\n",
              "    }\n",
              "</style>\n",
              "<table border=\"1\" class=\"dataframe\">\n",
              "  <thead>\n",
              "    <tr style=\"text-align: right;\">\n",
              "      <th></th>\n",
              "      <th>brokered_by</th>\n",
              "      <th>price</th>\n",
              "      <th>bed</th>\n",
              "      <th>bath</th>\n",
              "      <th>acre_lot</th>\n",
              "      <th>house_size</th>\n",
              "    </tr>\n",
              "  </thead>\n",
              "  <tbody>\n",
              "    <tr>\n",
              "      <th>count</th>\n",
              "      <td>2.221849e+06</td>\n",
              "      <td>2.224841e+06</td>\n",
              "      <td>1.745065e+06</td>\n",
              "      <td>1.714611e+06</td>\n",
              "      <td>1.900793e+06</td>\n",
              "      <td>1.657898e+06</td>\n",
              "    </tr>\n",
              "    <tr>\n",
              "      <th>mean</th>\n",
              "      <td>5.293989e+04</td>\n",
              "      <td>5.241955e+05</td>\n",
              "      <td>3.275841e+00</td>\n",
              "      <td>2.496440e+00</td>\n",
              "      <td>1.522303e+01</td>\n",
              "      <td>2.714471e+03</td>\n",
              "    </tr>\n",
              "    <tr>\n",
              "      <th>std</th>\n",
              "      <td>3.064275e+04</td>\n",
              "      <td>2.138893e+06</td>\n",
              "      <td>1.567274e+00</td>\n",
              "      <td>1.652573e+00</td>\n",
              "      <td>7.628238e+02</td>\n",
              "      <td>8.081635e+05</td>\n",
              "    </tr>\n",
              "    <tr>\n",
              "      <th>min</th>\n",
              "      <td>0.000000e+00</td>\n",
              "      <td>0.000000e+00</td>\n",
              "      <td>1.000000e+00</td>\n",
              "      <td>1.000000e+00</td>\n",
              "      <td>0.000000e+00</td>\n",
              "      <td>4.000000e+00</td>\n",
              "    </tr>\n",
              "    <tr>\n",
              "      <th>25%</th>\n",
              "      <td>2.386100e+04</td>\n",
              "      <td>1.650000e+05</td>\n",
              "      <td>3.000000e+00</td>\n",
              "      <td>2.000000e+00</td>\n",
              "      <td>1.500000e-01</td>\n",
              "      <td>1.300000e+03</td>\n",
              "    </tr>\n",
              "    <tr>\n",
              "      <th>50%</th>\n",
              "      <td>5.288400e+04</td>\n",
              "      <td>3.250000e+05</td>\n",
              "      <td>3.000000e+00</td>\n",
              "      <td>2.000000e+00</td>\n",
              "      <td>2.600000e-01</td>\n",
              "      <td>1.760000e+03</td>\n",
              "    </tr>\n",
              "    <tr>\n",
              "      <th>75%</th>\n",
              "      <td>7.918300e+04</td>\n",
              "      <td>5.500000e+05</td>\n",
              "      <td>4.000000e+00</td>\n",
              "      <td>3.000000e+00</td>\n",
              "      <td>9.800000e-01</td>\n",
              "      <td>2.413000e+03</td>\n",
              "    </tr>\n",
              "    <tr>\n",
              "      <th>max</th>\n",
              "      <td>1.101420e+05</td>\n",
              "      <td>2.147484e+09</td>\n",
              "      <td>4.730000e+02</td>\n",
              "      <td>8.300000e+02</td>\n",
              "      <td>1.000000e+05</td>\n",
              "      <td>1.040400e+09</td>\n",
              "    </tr>\n",
              "  </tbody>\n",
              "</table>\n",
              "</div>"
            ],
            "text/plain": [
              "        brokered_by         price           bed          bath      acre_lot  \\\n",
              "count  2.221849e+06  2.224841e+06  1.745065e+06  1.714611e+06  1.900793e+06   \n",
              "mean   5.293989e+04  5.241955e+05  3.275841e+00  2.496440e+00  1.522303e+01   \n",
              "std    3.064275e+04  2.138893e+06  1.567274e+00  1.652573e+00  7.628238e+02   \n",
              "min    0.000000e+00  0.000000e+00  1.000000e+00  1.000000e+00  0.000000e+00   \n",
              "25%    2.386100e+04  1.650000e+05  3.000000e+00  2.000000e+00  1.500000e-01   \n",
              "50%    5.288400e+04  3.250000e+05  3.000000e+00  2.000000e+00  2.600000e-01   \n",
              "75%    7.918300e+04  5.500000e+05  4.000000e+00  3.000000e+00  9.800000e-01   \n",
              "max    1.101420e+05  2.147484e+09  4.730000e+02  8.300000e+02  1.000000e+05   \n",
              "\n",
              "         house_size  \n",
              "count  1.657898e+06  \n",
              "mean   2.714471e+03  \n",
              "std    8.081635e+05  \n",
              "min    4.000000e+00  \n",
              "25%    1.300000e+03  \n",
              "50%    1.760000e+03  \n",
              "75%    2.413000e+03  \n",
              "max    1.040400e+09  "
            ]
          },
          "execution_count": 16,
          "metadata": {},
          "output_type": "execute_result"
        }
      ],
      "source": [
        "# check statistics \n",
        "df.describe()"
      ]
    },
    {
      "cell_type": "code",
      "execution_count": 17,
      "metadata": {
        "colab": {
          "base_uri": "https://localhost:8080/",
          "height": 323
        },
        "id": "xgKzhKO1OYBl",
        "outputId": "a44cbcf2-c2a9-4fc8-c515-634b6bfa33fb"
      },
      "outputs": [
        {
          "data": {
            "text/plain": [
              "[Text(0.5, 1.0, 'Attacks and subtypes')]"
            ]
          },
          "execution_count": 17,
          "metadata": {},
          "output_type": "execute_result"
        },
        {
          "data": {
            "image/png": "[encoded data removed]",
            "text/plain": [
              "<Figure size 3500x1000 with 1 Axes>"
            ]
          },
          "metadata": {},
          "output_type": "display_data"
        }
      ],
      "source": [
        "# Set the figure size for better visualization\n",
        "plt.figure(figsize=(35,10))\n",
        "# Create a countplot to visualize the distribution of the \"status\" column\n",
        "sns.countplot(x=df['status']).set(title='Attacks and subtypes')"
      ]
    },
    {
      "cell_type": "code",
      "execution_count": 18,
      "metadata": {
        "colab": {
          "base_uri": "https://localhost:8080/"
        },
        "id": "L5WliF0uOolg",
        "outputId": "f1eade39-8c6f-440d-b7a4-7f415c5aff45"
      },
      "outputs": [
        {
          "data": {
            "text/plain": [
              "array(['for_sale', 'ready_to_build', 'sold'], dtype=object)"
            ]
          },
          "execution_count": 18,
          "metadata": {},
          "output_type": "execute_result"
        }
      ],
      "source": [
        "# Get the unique values in the 'status' column\n",
        "df['status'].unique()"
      ]
    },
    {
      "cell_type": "markdown",
      "metadata": {
        "id": "xFk062PWO6H1"
      },
      "source": [
        "# The Data Preprocessing "
      ]
    },
    {
      "cell_type": "code",
      "execution_count": 19,
      "metadata": {},
      "outputs": [
        {
          "name": "stdout",
          "output_type": "stream",
          "text": [
            "<class 'pandas.core.frame.DataFrame'>\n",
            "RangeIndex: 2226382 entries, 0 to 2226381\n",
            "Data columns (total 10 columns):\n",
            " #   Column          Dtype  \n",
            "---  ------          -----  \n",
            " 0   brokered_by     float64\n",
            " 1   status          object \n",
            " 2   price           float64\n",
            " 3   bed             float64\n",
            " 4   bath            float64\n",
            " 5   acre_lot        float64\n",
            " 6   city            object \n",
            " 7   state           object \n",
            " 8   house_size      float64\n",
            " 9   prev_sold_date  object \n",
            "dtypes: float64(6), object(4)\n",
            "memory usage: 169.9+ MB\n"
          ]
        }
      ],
      "source": [
        "df.info()"
      ]
    },
    {
      "cell_type": "code",
      "execution_count": 20,
      "metadata": {
        "colab": {
          "base_uri": "https://localhost:8080/",
          "height": 460
        },
        "id": "GcBTRTkDOytj",
        "outputId": "537eb47d-3c67-48f3-c5d1-54881e7fdd7c"
      },
      "outputs": [
        {
          "data": {
            "text/plain": [
              "brokered_by         4533\n",
              "status                 0\n",
              "price               1541\n",
              "bed               481317\n",
              "bath              511771\n",
              "acre_lot          325589\n",
              "city                1407\n",
              "state                  8\n",
              "house_size        568484\n",
              "prev_sold_date    734297\n",
              "dtype: int64"
            ]
          },
          "execution_count": 20,
          "metadata": {},
          "output_type": "execute_result"
        }
      ],
      "source": [
        "# Get the sum of null values in each column\n",
        "df.isnull().sum()"
      ]
    },
    {
      "cell_type": "code",
      "execution_count": 21,
      "metadata": {},
      "outputs": [],
      "source": [
        "df = df.dropna()"
      ]
    },
    {
      "cell_type": "code",
      "execution_count": 22,
      "metadata": {},
      "outputs": [
        {
          "name": "stdout",
          "output_type": "stream",
          "text": [
            "<class 'pandas.core.frame.DataFrame'>\n",
            "Index: 1087807 entries, 502 to 2226381\n",
            "Data columns (total 10 columns):\n",
            " #   Column          Non-Null Count    Dtype  \n",
            "---  ------          --------------    -----  \n",
            " 0   brokered_by     1087807 non-null  float64\n",
            " 1   status          1087807 non-null  object \n",
            " 2   price           1087807 non-null  float64\n",
            " 3   bed             1087807 non-null  float64\n",
            " 4   bath            1087807 non-null  float64\n",
            " 5   acre_lot        1087807 non-null  float64\n",
            " 6   city            1087807 non-null  object \n",
            " 7   state           1087807 non-null  object \n",
            " 8   house_size      1087807 non-null  float64\n",
            " 9   prev_sold_date  1087807 non-null  object \n",
            "dtypes: float64(6), object(4)\n",
            "memory usage: 91.3+ MB\n"
          ]
        }
      ],
      "source": [
        "# Print a concise summary of the DataFrame\n",
        "df.info()"
      ]
    },
    {
      "cell_type": "code",
      "execution_count": 23,
      "metadata": {
        "colab": {
          "base_uri": "https://localhost:8080/",
          "height": 460
        },
        "id": "YZaOsmheS8BM",
        "outputId": "b4545ea5-cd7c-4c2d-bc7c-9045a8f7b24e"
      },
      "outputs": [
        {
          "data": {
            "text/plain": [
              "brokered_by       0\n",
              "status            0\n",
              "price             0\n",
              "bed               0\n",
              "bath              0\n",
              "acre_lot          0\n",
              "city              0\n",
              "state             0\n",
              "house_size        0\n",
              "prev_sold_date    0\n",
              "dtype: int64"
            ]
          },
          "execution_count": 23,
          "metadata": {},
          "output_type": "execute_result"
        }
      ],
      "source": [
        "# Get the sum of null values in each column after filling the missing values\n",
        "df.isnull().sum()"
      ]
    },
    {
      "cell_type": "markdown",
      "metadata": {
        "id": "7wnsLR5QUuTV"
      },
      "source": [
        "# Encoding"
      ]
    },
    {
      "cell_type": "code",
      "execution_count": 24,
      "metadata": {
        "colab": {
          "base_uri": "https://localhost:8080/"
        },
        "id": "oc9tkh-FUmhq",
        "outputId": "5a5480fe-183e-408d-855a-c8bf1fa85197"
      },
      "outputs": [
        {
          "data": {
            "text/plain": [
              "Index(['status', 'city', 'state', 'prev_sold_date'], dtype='object')"
            ]
          },
          "execution_count": 24,
          "metadata": {},
          "output_type": "execute_result"
        }
      ],
      "source": [
        "# Get the names of columns with categorical data types \n",
        "categorical_columns = df.select_dtypes(include=['object', 'category']).columns\n",
        "# Print the categorical columns\n",
        "categorical_columns"
      ]
    },
    {
      "cell_type": "code",
      "execution_count": 25,
      "metadata": {},
      "outputs": [
        {
          "data": {
            "text/plain": [
              "prev_sold_date\n",
              "2022-03-31    12425\n",
              "2022-04-15    11949\n",
              "2022-04-22    11612\n",
              "2022-04-08    10781\n",
              "2022-04-29    10693\n",
              "              ...  \n",
              "2011-03-26        1\n",
              "2010-12-04        1\n",
              "2018-10-27        1\n",
              "2001-03-17        1\n",
              "2012-08-18        1\n",
              "Name: count, Length: 14094, dtype: int64"
            ]
          },
          "execution_count": 25,
          "metadata": {},
          "output_type": "execute_result"
        }
      ],
      "source": [
        "df['prev_sold_date'].value_counts()"
      ]
    },
    {
      "cell_type": "code",
      "execution_count": 26,
      "metadata": {},
      "outputs": [
        {
          "name": "stderr",
          "output_type": "stream",
          "text": [
            "C:\\Temp\\ipykernel_16644\\1069749289.py:5: SettingWithCopyWarning: \n",
            "A value is trying to be set on a copy of a slice from a DataFrame.\n",
            "Try using .loc[row_indexer,col_indexer] = value instead\n",
            "\n",
            "See the caveats in the documentation: https://pandas.pydata.org/pandas-docs/stable/user_guide/indexing.html#returning-a-view-versus-a-copy\n",
            "  df['prev_sold_date'] = pd.to_datetime(df['prev_sold_date'])\n",
            "C:\\Temp\\ipykernel_16644\\1069749289.py:8: SettingWithCopyWarning: \n",
            "A value is trying to be set on a copy of a slice from a DataFrame.\n",
            "Try using .loc[row_indexer,col_indexer] = value instead\n",
            "\n",
            "See the caveats in the documentation: https://pandas.pydata.org/pandas-docs/stable/user_guide/indexing.html#returning-a-view-versus-a-copy\n",
            "  df['prev_sold_date'] = (datetime.now() - df['prev_sold_date']).dt.days\n"
          ]
        }
      ],
      "source": [
        "# encoding date for sold by computing number of date of sold till now\n",
        "from datetime import datetime\n",
        "\n",
        "# Ensure the column is in datetime format\n",
        "df['prev_sold_date'] = pd.to_datetime(df['prev_sold_date'])\n",
        "\n",
        "# Calculate the elapsed time since today\n",
        "df['prev_sold_date'] = (datetime.now() - df['prev_sold_date']).dt.days"
      ]
    },
    {
      "cell_type": "code",
      "execution_count": 27,
      "metadata": {},
      "outputs": [
        {
          "data": {
            "text/plain": [
              "prev_sold_date\n",
              "905     12425\n",
              "890     11949\n",
              "883     11612\n",
              "897     10781\n",
              "876     10693\n",
              "        ...  \n",
              "4928        1\n",
              "5040        1\n",
              "2156        1\n",
              "8589        1\n",
              "4417        1\n",
              "Name: count, Length: 14094, dtype: int64"
            ]
          },
          "execution_count": 27,
          "metadata": {},
          "output_type": "execute_result"
        }
      ],
      "source": [
        "df['prev_sold_date'].value_counts()"
      ]
    },
    {
      "cell_type": "code",
      "execution_count": 28,
      "metadata": {},
      "outputs": [
        {
          "data": {
            "text/plain": [
              "state\n",
              "California              158026\n",
              "Florida                 108655\n",
              "Texas                   106136\n",
              "Arizona                  50275\n",
              "Pennsylvania             42716\n",
              "Georgia                  42418\n",
              "Washington               41223\n",
              "New York                 39021\n",
              "Illinois                 38722\n",
              "Virginia                 38403\n",
              "Ohio                     35573\n",
              "Maryland                 30573\n",
              "Minnesota                27603\n",
              "North Carolina           27376\n",
              "Massachusetts            24867\n",
              "Oklahoma                 22954\n",
              "Missouri                 20697\n",
              "Oregon                   18457\n",
              "New Jersey               16210\n",
              "Colorado                 15220\n",
              "Michigan                 14808\n",
              "Wisconsin                13015\n",
              "Iowa                     12747\n",
              "Tennessee                12389\n",
              "South Carolina           11278\n",
              "Kentucky                 10875\n",
              "Alabama                   9519\n",
              "Idaho                     9179\n",
              "New Mexico                8873\n",
              "Arkansas                  8636\n",
              "Louisiana                 8277\n",
              "Nevada                    7084\n",
              "Kansas                    6723\n",
              "Connecticut               6335\n",
              "Indiana                   5900\n",
              "Rhode Island              5224\n",
              "Delaware                  4859\n",
              "West Virginia             4490\n",
              "Utah                      4146\n",
              "Nebraska                  2996\n",
              "Montana                   2971\n",
              "Hawaii                    2903\n",
              "District of Columbia      2509\n",
              "Mississippi               2275\n",
              "North Dakota              1214\n",
              "New Hampshire              766\n",
              "South Dakota               663\n",
              "Wyoming                    595\n",
              "Vermont                    494\n",
              "Maine                      373\n",
              "Alaska                     291\n",
              "Puerto Rico                255\n",
              "Virgin Islands              20\n",
              "Name: count, dtype: int64"
            ]
          },
          "execution_count": 28,
          "metadata": {},
          "output_type": "execute_result"
        }
      ],
      "source": [
        "df['state'].value_counts()"
      ]
    },
    {
      "cell_type": "code",
      "execution_count": 29,
      "metadata": {},
      "outputs": [
        {
          "name": "stderr",
          "output_type": "stream",
          "text": [
            "C:\\Temp\\ipykernel_16644\\2156795865.py:3: SettingWithCopyWarning: \n",
            "A value is trying to be set on a copy of a slice from a DataFrame.\n",
            "Try using .loc[row_indexer,col_indexer] = value instead\n",
            "\n",
            "See the caveats in the documentation: https://pandas.pydata.org/pandas-docs/stable/user_guide/indexing.html#returning-a-view-versus-a-copy\n",
            "  df['state'] = df['state'].map(city_frequency)\n"
          ]
        }
      ],
      "source": [
        "# Frequency encoding of 'city'\n",
        "city_frequency = df['state'].value_counts().to_dict()\n",
        "df['state'] = df['state'].map(city_frequency)"
      ]
    },
    {
      "cell_type": "code",
      "execution_count": 30,
      "metadata": {},
      "outputs": [
        {
          "data": {
            "text/plain": [
              "array(['for_sale', 'sold'], dtype=object)"
            ]
          },
          "execution_count": 30,
          "metadata": {},
          "output_type": "execute_result"
        }
      ],
      "source": [
        "df['status'].unique()"
      ]
    },
    {
      "cell_type": "code",
      "execution_count": 31,
      "metadata": {},
      "outputs": [
        {
          "name": "stderr",
          "output_type": "stream",
          "text": [
            "C:\\Temp\\ipykernel_16644\\2347697254.py:2: SettingWithCopyWarning: \n",
            "A value is trying to be set on a copy of a slice from a DataFrame.\n",
            "Try using .loc[row_indexer,col_indexer] = value instead\n",
            "\n",
            "See the caveats in the documentation: https://pandas.pydata.org/pandas-docs/stable/user_guide/indexing.html#returning-a-view-versus-a-copy\n",
            "  df['status'] = df['status'].map({'for_sale': 1, 'sold': 0})\n"
          ]
        }
      ],
      "source": [
        "# manual encoding\n",
        "df['status'] = df['status'].map({'for_sale': 1, 'sold': 0})"
      ]
    },
    {
      "cell_type": "code",
      "execution_count": 32,
      "metadata": {},
      "outputs": [
        {
          "data": {
            "text/plain": [
              "array([1, 0], dtype=int64)"
            ]
          },
          "execution_count": 32,
          "metadata": {},
          "output_type": "execute_result"
        }
      ],
      "source": [
        "df['status'].unique()"
      ]
    },
    {
      "cell_type": "code",
      "execution_count": 33,
      "metadata": {},
      "outputs": [
        {
          "data": {
            "text/plain": [
              "city\n",
              "Houston          15971\n",
              "Tucson            7554\n",
              "Phoenix           7379\n",
              "Los Angeles       6858\n",
              "Dallas            6701\n",
              "                 ...  \n",
              "Yonges Island        1\n",
              "Adin                 1\n",
              "Road                 1\n",
              "Forest Acres         1\n",
              "Anatone              1\n",
              "Name: count, Length: 15122, dtype: int64"
            ]
          },
          "execution_count": 33,
          "metadata": {},
          "output_type": "execute_result"
        }
      ],
      "source": [
        "df['city'].value_counts()"
      ]
    },
    {
      "cell_type": "code",
      "execution_count": 34,
      "metadata": {},
      "outputs": [
        {
          "name": "stderr",
          "output_type": "stream",
          "text": [
            "C:\\Temp\\ipykernel_16644\\114483943.py:3: SettingWithCopyWarning: \n",
            "A value is trying to be set on a copy of a slice from a DataFrame.\n",
            "Try using .loc[row_indexer,col_indexer] = value instead\n",
            "\n",
            "See the caveats in the documentation: https://pandas.pydata.org/pandas-docs/stable/user_guide/indexing.html#returning-a-view-versus-a-copy\n",
            "  df['city'] = df['city'].map(city_frequency)\n"
          ]
        }
      ],
      "source": [
        "# Frequency encoding of 'city'\n",
        "city_frequency = df['city'].value_counts().to_dict()\n",
        "df['city'] = df['city'].map(city_frequency)"
      ]
    },
    {
      "cell_type": "code",
      "execution_count": 35,
      "metadata": {},
      "outputs": [
        {
          "data": {
            "text/plain": [
              "city\n",
              "15971    15971\n",
              "4056      8112\n",
              "7554      7554\n",
              "7379      7379\n",
              "6858      6858\n",
              "         ...  \n",
              "289        289\n",
              "280        280\n",
              "271        271\n",
              "261        261\n",
              "245        245\n",
              "Name: count, Length: 800, dtype: int64"
            ]
          },
          "execution_count": 35,
          "metadata": {},
          "output_type": "execute_result"
        }
      ],
      "source": [
        "df['city'].value_counts()"
      ]
    },
    {
      "cell_type": "code",
      "execution_count": 36,
      "metadata": {},
      "outputs": [
        {
          "name": "stdout",
          "output_type": "stream",
          "text": [
            "<class 'pandas.core.frame.DataFrame'>\n",
            "Index: 1087807 entries, 502 to 2226381\n",
            "Data columns (total 10 columns):\n",
            " #   Column          Non-Null Count    Dtype  \n",
            "---  ------          --------------    -----  \n",
            " 0   brokered_by     1087807 non-null  float64\n",
            " 1   status          1087807 non-null  int64  \n",
            " 2   price           1087807 non-null  float64\n",
            " 3   bed             1087807 non-null  float64\n",
            " 4   bath            1087807 non-null  float64\n",
            " 5   acre_lot        1087807 non-null  float64\n",
            " 6   city            1087807 non-null  int64  \n",
            " 7   state           1087807 non-null  int64  \n",
            " 8   house_size      1087807 non-null  float64\n",
            " 9   prev_sold_date  1087807 non-null  int64  \n",
            "dtypes: float64(6), int64(4)\n",
            "memory usage: 91.3 MB\n"
          ]
        }
      ],
      "source": [
        "# Print the summary statistics after encoding\n",
        "df.info()"
      ]
    },
    {
      "cell_type": "markdown",
      "metadata": {
        "id": "BPs6-Jz5VwEs"
      },
      "source": [
        "# Feature Engineering"
      ]
    },
    {
      "cell_type": "code",
      "execution_count": 37,
      "metadata": {
        "id": "yVGT3nGbVU97"
      },
      "outputs": [],
      "source": [
        "# Create a new DataFrame with all columns except 'price'\n",
        "df_features = df.drop(columns=[\"price\"])"
      ]
    },
    {
      "cell_type": "code",
      "execution_count": 38,
      "metadata": {
        "id": "bOlXR_gbV01X"
      },
      "outputs": [],
      "source": [
        "# Assign df_features to X\n",
        "X = df_features\n",
        "# Extract the 'price' column from df and assign it to y\n",
        "y = df[\"price\"]"
      ]
    },
    {
      "cell_type": "code",
      "execution_count": 39,
      "metadata": {
        "colab": {
          "base_uri": "https://localhost:8080/"
        },
        "id": "g6iXDi-h4m8H",
        "outputId": "2f4c9485-5542-4370-9441-e12a3f8fab83"
      },
      "outputs": [
        {
          "data": {
            "text/plain": [
              "(761464, 326343, 761464, 326343)"
            ]
          },
          "execution_count": 39,
          "metadata": {},
          "output_type": "execute_result"
        }
      ],
      "source": [
        "from sklearn.model_selection import train_test_split\n",
        "# Assuming X and y are your feature matrix and target vector\n",
        "\n",
        "# Split the data into training and testing sets\n",
        "X_train, X_test, y_train, y_test = train_test_split(X, y,\n",
        "                                                    test_size=0.3,\n",
        "                                                    random_state=3,\n",
        "                                                    shuffle=True)\n",
        "# Print the lengths of the resulting sets\n",
        "len(X_train), len(X_test), len(y_train), len(y_test)"
      ]
    },
    {
      "cell_type": "markdown",
      "metadata": {
        "id": "gJcmm6qTWUzo"
      },
      "source": [
        "# Robust Scaling"
      ]
    },
    {
      "cell_type": "code",
      "execution_count": 40,
      "metadata": {
        "id": "YW781gxHWJ2X"
      },
      "outputs": [],
      "source": [
        "from sklearn.preprocessing import RobustScaler\n",
        "\n",
        "# Create a RobustScaler object\n",
        "Ro_scaler = RobustScaler()\n",
        "\n",
        "# Fit the scaler to the training data and transform it\n",
        "X_train = Ro_scaler.fit_transform(X_train)\n",
        "# Transform the testing data using the same scaler\n",
        "X_test= Ro_scaler.transform(X_test)"
      ]
    },
    {
      "cell_type": "markdown",
      "metadata": {},
      "source": [
        "# Feature Selection"
      ]
    },
    {
      "cell_type": "code",
      "execution_count": 41,
      "metadata": {},
      "outputs": [
        {
          "name": "stdout",
          "output_type": "stream",
          "text": [
            "          feature  mutual_info\n",
            "5            city     0.298905\n",
            "7      house_size     0.279153\n",
            "6           state     0.270138\n",
            "0     brokered_by     0.265057\n",
            "3            bath     0.232395\n",
            "2             bed     0.102622\n",
            "4        acre_lot     0.043742\n",
            "8  prev_sold_date     0.019059\n",
            "1          status     0.005116\n",
            "Top Features by Mutual Information: ['city' 'house_size' 'state' 'brokered_by' 'bath']\n"
          ]
        }
      ],
      "source": [
        "from sklearn.feature_selection import mutual_info_regression\n",
        "\n",
        "# Calculate mutual information between each feature and the target\n",
        "mutual_info = mutual_info_regression(X_train, y_train)\n",
        "\n",
        "# Create a DataFrame for mutual information\n",
        "mi_df = pd.DataFrame({'feature': X.columns, 'mutual_info': mutual_info})\n",
        "mi_df = mi_df.sort_values(by='mutual_info', ascending=False)\n",
        "print(mi_df)\n",
        "\n",
        "# Select top N features (e.g., top 5)\n",
        "top_mi_features = mi_df['feature'].head(5).values\n",
        "print(\"Top Features by Mutual Information:\", top_mi_features)\n"
      ]
    },
    {
      "cell_type": "code",
      "execution_count": 42,
      "metadata": {},
      "outputs": [],
      "source": [
        "X=df[['city' ,'brokered_by' ,'house_size' ,'bath','state']]\n",
        "y=df['price']"
      ]
    },
    {
      "cell_type": "code",
      "execution_count": 43,
      "metadata": {},
      "outputs": [
        {
          "data": {
            "text/plain": [
              "(761464, 326343, 761464, 326343)"
            ]
          },
          "execution_count": 43,
          "metadata": {},
          "output_type": "execute_result"
        }
      ],
      "source": [
        "from sklearn.model_selection import train_test_split\n",
        "# Assuming X and y are your feature matrix and target vector\n",
        "\n",
        "# Split the data into training and testing sets\n",
        "X_train, X_test, y_train, y_test = train_test_split(X, y,\n",
        "                                                    test_size=0.3,\n",
        "                                                    random_state=3,\n",
        "                                                    shuffle=True)\n",
        "# Print the lengths of the resulting sets\n",
        "len(X_train), len(X_test), len(y_train), len(y_test)"
      ]
    },
    {
      "cell_type": "markdown",
      "metadata": {},
      "source": [
        "# Linear Regression"
      ]
    },
    {
      "cell_type": "code",
      "execution_count": 44,
      "metadata": {},
      "outputs": [],
      "source": [
        "import pandas as pd\n",
        "from sklearn.model_selection import train_test_split\n",
        "from sklearn.linear_model import LinearRegression\n",
        "from sklearn.metrics import mean_absolute_error, mean_squared_error, r2_score\n",
        "# Initialize the Linear Regression model\n",
        "model = LinearRegression()\n",
        "\n",
        "# Train the model\n",
        "model.fit(X_train, y_train)\n",
        "# Make predictions\n",
        "y_pred = model.predict(X_test)"
      ]
    },
    {
      "cell_type": "code",
      "execution_count": 45,
      "metadata": {},
      "outputs": [
        {
          "name": "stdout",
          "output_type": "stream",
          "text": [
            "Mean Absolute Error (MAE): 322680.1271191924\n",
            "Mean Squared Error (MSE): 831257166387.08\n",
            "R-squared (R2) Score: 0.22860272784481683\n"
          ]
        }
      ],
      "source": [
        "# Calculate performance metrics for Linear Regression\n",
        "mae = mean_absolute_error(y_test, y_pred)\n",
        "mse = mean_squared_error(y_test, y_pred)\n",
        "r2 = r2_score(y_test, y_pred)\n",
        "\n",
        "print(\"Mean Absolute Error (MAE):\", mae)\n",
        "print(\"Mean Squared Error (MSE):\", mse)\n",
        "print(\"R-squared (R2) Score:\", r2)"
      ]
    },
    {
      "cell_type": "markdown",
      "metadata": {},
      "source": [
        "# Polynomial Regression"
      ]
    },
    {
      "cell_type": "code",
      "execution_count": 46,
      "metadata": {},
      "outputs": [
        {
          "name": "stdout",
          "output_type": "stream",
          "text": [
            "Mean Absolute Error (MAE): 309203.2930272071\n",
            "Mean Squared Error (MSE): 706077689018.0878\n",
            "R-squared (R2) Score: 0.34476787056707137\n"
          ]
        }
      ],
      "source": [
        "from sklearn.preprocessing import PolynomialFeatures\n",
        "# Generate polynomial features \n",
        "poly = PolynomialFeatures(degree=2)\n",
        "X_poly = poly.fit_transform(X)\n",
        "# Split the data into training and testing sets\n",
        "X_train, X_test, y_train, y_test = train_test_split(X_poly, y,\n",
        "                                                    test_size=0.3,\n",
        "                                                    random_state=3,\n",
        "                                                    shuffle=True)\n",
        "# Print the lengths of the resulting sets\n",
        "len(X_train), len(X_test), len(y_train), len(y_test)\n",
        "# Fit a linear regression model on the polynomial features\n",
        "model = LinearRegression()\n",
        "model.fit(X_train, y_train)\n",
        "\n",
        "# Make predictions\n",
        "y_pred_poly = model.predict(X_test)\n",
        "# Calculate performance metrics for Linear Regression\n",
        "mae = mean_absolute_error(y_test, y_pred_poly)\n",
        "mse = mean_squared_error(y_test, y_pred_poly)\n",
        "r2 = r2_score(y_test, y_pred_poly)\n",
        "\n",
        "print(\"Mean Absolute Error (MAE):\", mae)\n",
        "print(\"Mean Squared Error (MSE):\", mse)\n",
        "print(\"R-squared (R2) Score:\", r2)"
      ]
    },
    {
      "cell_type": "code",
      "execution_count": 47,
      "metadata": {},
      "outputs": [
        {
          "data": {
            "text/plain": [
              "(761464, 326343, 761464, 326343)"
            ]
          },
          "execution_count": 47,
          "metadata": {},
          "output_type": "execute_result"
        }
      ],
      "source": [
        "X=df[['city' ,'brokered_by' ,'house_size' ,'bath','state']]\n",
        "y=df['price']\n",
        "from sklearn.model_selection import train_test_split\n",
        "# Assuming X and y are your feature matrix and target vector\n",
        "\n",
        "# Split the data into training and testing sets\n",
        "X_train, X_test, y_train, y_test = train_test_split(X, y,\n",
        "                                                    test_size=0.3,\n",
        "                                                    random_state=3,\n",
        "                                                    shuffle=True)\n",
        "# Print the lengths of the resulting sets\n",
        "len(X_train), len(X_test), len(y_train), len(y_test)"
      ]
    },
    {
      "cell_type": "markdown",
      "metadata": {
        "id": "Hp_rUPOtugDU"
      },
      "source": [
        "# Using Regularized Linear Regression (Ridge and Lasso)"
      ]
    },
    {
      "cell_type": "code",
      "execution_count": 48,
      "metadata": {
        "colab": {
          "base_uri": "https://localhost:8080/"
        },
        "id": "7q0okXt9uaUa",
        "outputId": "fe0e46bc-bb45-4015-84d6-7e59cbc0e4c6"
      },
      "outputs": [
        {
          "name": "stdout",
          "output_type": "stream",
          "text": [
            "Ridge Regression - MAE: 322680.0634977154 MSE: 831257193042.6134 R2 Score: 0.2286027031087826\n",
            "Lasso Regression - MAE: 322680.11105104873 MSE: 831257173120.4984 R2 Score: 0.22860272159628048\n"
          ]
        }
      ],
      "source": [
        "from sklearn.linear_model import Ridge, Lasso\n",
        "\n",
        "# Initialize the Ridge Regression model\n",
        "ridge_model = Ridge(alpha=1.0)  # You can adjust the alpha parameter for regularization strength\n",
        "ridge_model.fit(X_train, y_train)\n",
        "\n",
        "# Initialize the Lasso Regression model\n",
        "lasso_model = Lasso(alpha=0.1)  # You can adjust the alpha parameter for regularization strength\n",
        "lasso_model.fit(X_train, y_train)\n",
        "\n",
        "# Make predictions with Ridge\n",
        "y_pred_ridge = ridge_model.predict(X_test)\n",
        "\n",
        "# Make predictions with Lasso\n",
        "y_pred_lasso = lasso_model.predict(X_test)\n",
        "\n",
        "# Evaluate the models\n",
        "mae_ridge = mean_absolute_error(y_test, y_pred_ridge)\n",
        "mse_ridge = mean_squared_error(y_test, y_pred_ridge)\n",
        "r2_ridge = r2_score(y_test, y_pred_ridge)\n",
        "\n",
        "mae_lasso = mean_absolute_error(y_test, y_pred_lasso)\n",
        "mse_lasso = mean_squared_error(y_test, y_pred_lasso)\n",
        "r2_lasso = r2_score(y_test, y_pred_lasso)\n",
        "\n",
        "\n",
        "print(\"Ridge Regression - MAE:\", mae_ridge, \"MSE:\", mse_ridge, \"R2 Score:\", r2_ridge)\n",
        "print(\"Lasso Regression - MAE:\", mae_lasso, \"MSE:\", mse_lasso, \"R2 Score:\", r2_lasso)\n"
      ]
    },
    {
      "cell_type": "markdown",
      "metadata": {
        "id": "Dc-2kYgToMWe"
      },
      "source": [
        "# KNN"
      ]
    },
    {
      "cell_type": "code",
      "execution_count": 49,
      "metadata": {
        "colab": {
          "base_uri": "https://localhost:8080/",
          "height": 75
        },
        "id": "4MoWuMqpoCrt",
        "outputId": "682656dc-c588-47a9-e0c3-580cfd201858"
      },
      "outputs": [
        {
          "data": {
            "text/html": [
              "<style>#sk-container-id-1 {\n",
              "  /* Definition of color scheme common for light and dark mode */\n",
              "  --sklearn-color-text: black;\n",
              "  --sklearn-color-line: gray;\n",
              "  /* Definition of color scheme for unfitted estimators */\n",
              "  --sklearn-color-unfitted-level-0: #fff5e6;\n",
              "  --sklearn-color-unfitted-level-1: #f6e4d2;\n",
              "  --sklearn-color-unfitted-level-2: #ffe0b3;\n",
              "  --sklearn-color-unfitted-level-3: chocolate;\n",
              "  /* Definition of color scheme for fitted estimators */\n",
              "  --sklearn-color-fitted-level-0: #f0f8ff;\n",
              "  --sklearn-color-fitted-level-1: #d4ebff;\n",
              "  --sklearn-color-fitted-level-2: #b3dbfd;\n",
              "  --sklearn-color-fitted-level-3: cornflowerblue;\n",
              "\n",
              "  /* Specific color for light theme */\n",
              "  --sklearn-color-text-on-default-background: var(--sg-text-color, var(--theme-code-foreground, var(--jp-content-font-color1, black)));\n",
              "  --sklearn-color-background: var(--sg-background-color, var(--theme-background, var(--jp-layout-color0, white)));\n",
              "  --sklearn-color-border-box: var(--sg-text-color, var(--theme-code-foreground, var(--jp-content-font-color1, black)));\n",
              "  --sklearn-color-icon: #696969;\n",
              "\n",
              "  @media (prefers-color-scheme: dark) {\n",
              "    /* Redefinition of color scheme for dark theme */\n",
              "    --sklearn-color-text-on-default-background: var(--sg-text-color, var(--theme-code-foreground, var(--jp-content-font-color1, white)));\n",
              "    --sklearn-color-background: var(--sg-background-color, var(--theme-background, var(--jp-layout-color0, #111)));\n",
              "    --sklearn-color-border-box: var(--sg-text-color, var(--theme-code-foreground, var(--jp-content-font-color1, white)));\n",
              "    --sklearn-color-icon: #878787;\n",
              "  }\n",
              "}\n",
              "\n",
              "#sk-container-id-1 {\n",
              "  color: var(--sklearn-color-text);\n",
              "}\n",
              "\n",
              "#sk-container-id-1 pre {\n",
              "  padding: 0;\n",
              "}\n",
              "\n",
              "#sk-container-id-1 input.sk-hidden--visually {\n",
              "  border: 0;\n",
              "  clip: rect(1px 1px 1px 1px);\n",
              "  clip: rect(1px, 1px, 1px, 1px);\n",
              "  height: 1px;\n",
              "  margin: -1px;\n",
              "  overflow: hidden;\n",
              "  padding: 0;\n",
              "  position: absolute;\n",
              "  width: 1px;\n",
              "}\n",
              "\n",
              "#sk-container-id-1 div.sk-dashed-wrapped {\n",
              "  border: 1px dashed var(--sklearn-color-line);\n",
              "  margin: 0 0.4em 0.5em 0.4em;\n",
              "  box-sizing: border-box;\n",
              "  padding-bottom: 0.4em;\n",
              "  background-color: var(--sklearn-color-background);\n",
              "}\n",
              "\n",
              "#sk-container-id-1 div.sk-container {\n",
              "  /* jupyter's `normalize.less` sets `[hidden] { display: none; }`\n",
              "     but bootstrap.min.css set `[hidden] { display: none !important; }`\n",
              "     so we also need the `!important` here to be able to override the\n",
              "     default hidden behavior on the sphinx rendered scikit-learn.org.\n",
              "     See: https://github.com/scikit-learn/scikit-learn/issues/21755 */\n",
              "  display: inline-block !important;\n",
              "  position: relative;\n",
              "}\n",
              "\n",
              "#sk-container-id-1 div.sk-text-repr-fallback {\n",
              "  display: none;\n",
              "}\n",
              "\n",
              "div.sk-parallel-item,\n",
              "div.sk-serial,\n",
              "div.sk-item {\n",
              "  /* draw centered vertical line to link estimators */\n",
              "  background-image: linear-gradient(var(--sklearn-color-text-on-default-background), var(--sklearn-color-text-on-default-background));\n",
              "  background-size: 2px 100%;\n",
              "  background-repeat: no-repeat;\n",
              "  background-position: center center;\n",
              "}\n",
              "\n",
              "/* Parallel-specific style estimator block */\n",
              "\n",
              "#sk-container-id-1 div.sk-parallel-item::after {\n",
              "  content: \"\";\n",
              "  width: 100%;\n",
              "  border-bottom: 2px solid var(--sklearn-color-text-on-default-background);\n",
              "  flex-grow: 1;\n",
              "}\n",
              "\n",
              "#sk-container-id-1 div.sk-parallel {\n",
              "  display: flex;\n",
              "  align-items: stretch;\n",
              "  justify-content: center;\n",
              "  background-color: var(--sklearn-color-background);\n",
              "  position: relative;\n",
              "}\n",
              "\n",
              "#sk-container-id-1 div.sk-parallel-item {\n",
              "  display: flex;\n",
              "  flex-direction: column;\n",
              "}\n",
              "\n",
              "#sk-container-id-1 div.sk-parallel-item:first-child::after {\n",
              "  align-self: flex-end;\n",
              "  width: 50%;\n",
              "}\n",
              "\n",
              "#sk-container-id-1 div.sk-parallel-item:last-child::after {\n",
              "  align-self: flex-start;\n",
              "  width: 50%;\n",
              "}\n",
              "\n",
              "#sk-container-id-1 div.sk-parallel-item:only-child::after {\n",
              "  width: 0;\n",
              "}\n",
              "\n",
              "/* Serial-specific style estimator block */\n",
              "\n",
              "#sk-container-id-1 div.sk-serial {\n",
              "  display: flex;\n",
              "  flex-direction: column;\n",
              "  align-items: center;\n",
              "  background-color: var(--sklearn-color-background);\n",
              "  padding-right: 1em;\n",
              "  padding-left: 1em;\n",
              "}\n",
              "\n",
              "\n",
              "/* Toggleable style: style used for estimator/Pipeline/ColumnTransformer box that is\n",
              "clickable and can be expanded/collapsed.\n",
              "- Pipeline and ColumnTransformer use this feature and define the default style\n",
              "- Estimators will overwrite some part of the style using the `sk-estimator` class\n",
              "*/\n",
              "\n",
              "/* Pipeline and ColumnTransformer style (default) */\n",
              "\n",
              "#sk-container-id-1 div.sk-toggleable {\n",
              "  /* Default theme specific background. It is overwritten whether we have a\n",
              "  specific estimator or a Pipeline/ColumnTransformer */\n",
              "  background-color: var(--sklearn-color-background);\n",
              "}\n",
              "\n",
              "/* Toggleable label */\n",
              "#sk-container-id-1 label.sk-toggleable__label {\n",
              "  cursor: pointer;\n",
              "  display: block;\n",
              "  width: 100%;\n",
              "  margin-bottom: 0;\n",
              "  padding: 0.5em;\n",
              "  box-sizing: border-box;\n",
              "  text-align: center;\n",
              "}\n",
              "\n",
              "#sk-container-id-1 label.sk-toggleable__label-arrow:before {\n",
              "  /* Arrow on the left of the label */\n",
              "  content: \"▸\";\n",
              "  float: left;\n",
              "  margin-right: 0.25em;\n",
              "  color: var(--sklearn-color-icon);\n",
              "}\n",
              "\n",
              "#sk-container-id-1 label.sk-toggleable__label-arrow:hover:before {\n",
              "  color: var(--sklearn-color-text);\n",
              "}\n",
              "\n",
              "/* Toggleable content - dropdown */\n",
              "\n",
              "#sk-container-id-1 div.sk-toggleable__content {\n",
              "  max-height: 0;\n",
              "  max-width: 0;\n",
              "  overflow: hidden;\n",
              "  text-align: left;\n",
              "  /* unfitted */\n",
              "  background-color: var(--sklearn-color-unfitted-level-0);\n",
              "}\n",
              "\n",
              "#sk-container-id-1 div.sk-toggleable__content.fitted {\n",
              "  /* fitted */\n",
              "  background-color: var(--sklearn-color-fitted-level-0);\n",
              "}\n",
              "\n",
              "#sk-container-id-1 div.sk-toggleable__content pre {\n",
              "  margin: 0.2em;\n",
              "  border-radius: 0.25em;\n",
              "  color: var(--sklearn-color-text);\n",
              "  /* unfitted */\n",
              "  background-color: var(--sklearn-color-unfitted-level-0);\n",
              "}\n",
              "\n",
              "#sk-container-id-1 div.sk-toggleable__content.fitted pre {\n",
              "  /* unfitted */\n",
              "  background-color: var(--sklearn-color-fitted-level-0);\n",
              "}\n",
              "\n",
              "#sk-container-id-1 input.sk-toggleable__control:checked~div.sk-toggleable__content {\n",
              "  /* Expand drop-down */\n",
              "  max-height: 200px;\n",
              "  max-width: 100%;\n",
              "  overflow: auto;\n",
              "}\n",
              "\n",
              "#sk-container-id-1 input.sk-toggleable__control:checked~label.sk-toggleable__label-arrow:before {\n",
              "  content: \"▾\";\n",
              "}\n",
              "\n",
              "/* Pipeline/ColumnTransformer-specific style */\n",
              "\n",
              "#sk-container-id-1 div.sk-label input.sk-toggleable__control:checked~label.sk-toggleable__label {\n",
              "  color: var(--sklearn-color-text);\n",
              "  background-color: var(--sklearn-color-unfitted-level-2);\n",
              "}\n",
              "\n",
              "#sk-container-id-1 div.sk-label.fitted input.sk-toggleable__control:checked~label.sk-toggleable__label {\n",
              "  background-color: var(--sklearn-color-fitted-level-2);\n",
              "}\n",
              "\n",
              "/* Estimator-specific style */\n",
              "\n",
              "/* Colorize estimator box */\n",
              "#sk-container-id-1 div.sk-estimator input.sk-toggleable__control:checked~label.sk-toggleable__label {\n",
              "  /* unfitted */\n",
              "  background-color: var(--sklearn-color-unfitted-level-2);\n",
              "}\n",
              "\n",
              "#sk-container-id-1 div.sk-estimator.fitted input.sk-toggleable__control:checked~label.sk-toggleable__label {\n",
              "  /* fitted */\n",
              "  background-color: var(--sklearn-color-fitted-level-2);\n",
              "}\n",
              "\n",
              "#sk-container-id-1 div.sk-label label.sk-toggleable__label,\n",
              "#sk-container-id-1 div.sk-label label {\n",
              "  /* The background is the default theme color */\n",
              "  color: var(--sklearn-color-text-on-default-background);\n",
              "}\n",
              "\n",
              "/* On hover, darken the color of the background */\n",
              "#sk-container-id-1 div.sk-label:hover label.sk-toggleable__label {\n",
              "  color: var(--sklearn-color-text);\n",
              "  background-color: var(--sklearn-color-unfitted-level-2);\n",
              "}\n",
              "\n",
              "/* Label box, darken color on hover, fitted */\n",
              "#sk-container-id-1 div.sk-label.fitted:hover label.sk-toggleable__label.fitted {\n",
              "  color: var(--sklearn-color-text);\n",
              "  background-color: var(--sklearn-color-fitted-level-2);\n",
              "}\n",
              "\n",
              "/* Estimator label */\n",
              "\n",
              "#sk-container-id-1 div.sk-label label {\n",
              "  font-family: monospace;\n",
              "  font-weight: bold;\n",
              "  display: inline-block;\n",
              "  line-height: 1.2em;\n",
              "}\n",
              "\n",
              "#sk-container-id-1 div.sk-label-container {\n",
              "  text-align: center;\n",
              "}\n",
              "\n",
              "/* Estimator-specific */\n",
              "#sk-container-id-1 div.sk-estimator {\n",
              "  font-family: monospace;\n",
              "  border: 1px dotted var(--sklearn-color-border-box);\n",
              "  border-radius: 0.25em;\n",
              "  box-sizing: border-box;\n",
              "  margin-bottom: 0.5em;\n",
              "  /* unfitted */\n",
              "  background-color: var(--sklearn-color-unfitted-level-0);\n",
              "}\n",
              "\n",
              "#sk-container-id-1 div.sk-estimator.fitted {\n",
              "  /* fitted */\n",
              "  background-color: var(--sklearn-color-fitted-level-0);\n",
              "}\n",
              "\n",
              "/* on hover */\n",
              "#sk-container-id-1 div.sk-estimator:hover {\n",
              "  /* unfitted */\n",
              "  background-color: var(--sklearn-color-unfitted-level-2);\n",
              "}\n",
              "\n",
              "#sk-container-id-1 div.sk-estimator.fitted:hover {\n",
              "  /* fitted */\n",
              "  background-color: var(--sklearn-color-fitted-level-2);\n",
              "}\n",
              "\n",
              "/* Specification for estimator info (e.g. \"i\" and \"?\") */\n",
              "\n",
              "/* Common style for \"i\" and \"?\" */\n",
              "\n",
              ".sk-estimator-doc-link,\n",
              "a:link.sk-estimator-doc-link,\n",
              "a:visited.sk-estimator-doc-link {\n",
              "  float: right;\n",
              "  font-size: smaller;\n",
              "  line-height: 1em;\n",
              "  font-family: monospace;\n",
              "  background-color: var(--sklearn-color-background);\n",
              "  border-radius: 1em;\n",
              "  height: 1em;\n",
              "  width: 1em;\n",
              "  text-decoration: none !important;\n",
              "  margin-left: 1ex;\n",
              "  /* unfitted */\n",
              "  border: var(--sklearn-color-unfitted-level-1) 1pt solid;\n",
              "  color: var(--sklearn-color-unfitted-level-1);\n",
              "}\n",
              "\n",
              ".sk-estimator-doc-link.fitted,\n",
              "a:link.sk-estimator-doc-link.fitted,\n",
              "a:visited.sk-estimator-doc-link.fitted {\n",
              "  /* fitted */\n",
              "  border: var(--sklearn-color-fitted-level-1) 1pt solid;\n",
              "  color: var(--sklearn-color-fitted-level-1);\n",
              "}\n",
              "\n",
              "/* On hover */\n",
              "div.sk-estimator:hover .sk-estimator-doc-link:hover,\n",
              ".sk-estimator-doc-link:hover,\n",
              "div.sk-label-container:hover .sk-estimator-doc-link:hover,\n",
              ".sk-estimator-doc-link:hover {\n",
              "  /* unfitted */\n",
              "  background-color: var(--sklearn-color-unfitted-level-3);\n",
              "  color: var(--sklearn-color-background);\n",
              "  text-decoration: none;\n",
              "}\n",
              "\n",
              "div.sk-estimator.fitted:hover .sk-estimator-doc-link.fitted:hover,\n",
              ".sk-estimator-doc-link.fitted:hover,\n",
              "div.sk-label-container:hover .sk-estimator-doc-link.fitted:hover,\n",
              ".sk-estimator-doc-link.fitted:hover {\n",
              "  /* fitted */\n",
              "  background-color: var(--sklearn-color-fitted-level-3);\n",
              "  color: var(--sklearn-color-background);\n",
              "  text-decoration: none;\n",
              "}\n",
              "\n",
              "/* Span, style for the box shown on hovering the info icon */\n",
              ".sk-estimator-doc-link span {\n",
              "  display: none;\n",
              "  z-index: 9999;\n",
              "  position: relative;\n",
              "  font-weight: normal;\n",
              "  right: .2ex;\n",
              "  padding: .5ex;\n",
              "  margin: .5ex;\n",
              "  width: min-content;\n",
              "  min-width: 20ex;\n",
              "  max-width: 50ex;\n",
              "  color: var(--sklearn-color-text);\n",
              "  box-shadow: 2pt 2pt 4pt #999;\n",
              "  /* unfitted */\n",
              "  background: var(--sklearn-color-unfitted-level-0);\n",
              "  border: .5pt solid var(--sklearn-color-unfitted-level-3);\n",
              "}\n",
              "\n",
              ".sk-estimator-doc-link.fitted span {\n",
              "  /* fitted */\n",
              "  background: var(--sklearn-color-fitted-level-0);\n",
              "  border: var(--sklearn-color-fitted-level-3);\n",
              "}\n",
              "\n",
              ".sk-estimator-doc-link:hover span {\n",
              "  display: block;\n",
              "}\n",
              "\n",
              "/* \"?\"-specific style due to the `<a>` HTML tag */\n",
              "\n",
              "#sk-container-id-1 a.estimator_doc_link {\n",
              "  float: right;\n",
              "  font-size: 1rem;\n",
              "  line-height: 1em;\n",
              "  font-family: monospace;\n",
              "  background-color: var(--sklearn-color-background);\n",
              "  border-radius: 1rem;\n",
              "  height: 1rem;\n",
              "  width: 1rem;\n",
              "  text-decoration: none;\n",
              "  /* unfitted */\n",
              "  color: var(--sklearn-color-unfitted-level-1);\n",
              "  border: var(--sklearn-color-unfitted-level-1) 1pt solid;\n",
              "}\n",
              "\n",
              "#sk-container-id-1 a.estimator_doc_link.fitted {\n",
              "  /* fitted */\n",
              "  border: var(--sklearn-color-fitted-level-1) 1pt solid;\n",
              "  color: var(--sklearn-color-fitted-level-1);\n",
              "}\n",
              "\n",
              "/* On hover */\n",
              "#sk-container-id-1 a.estimator_doc_link:hover {\n",
              "  /* unfitted */\n",
              "  background-color: var(--sklearn-color-unfitted-level-3);\n",
              "  color: var(--sklearn-color-background);\n",
              "  text-decoration: none;\n",
              "}\n",
              "\n",
              "#sk-container-id-1 a.estimator_doc_link.fitted:hover {\n",
              "  /* fitted */\n",
              "  background-color: var(--sklearn-color-fitted-level-3);\n",
              "}\n",
              "</style><div id=\"sk-container-id-1\" class=\"sk-top-container\"><div class=\"sk-text-repr-fallback\"><pre>KNeighborsRegressor(n_neighbors=10)</pre><b>In a Jupyter environment, please rerun this cell to show the HTML representation or trust the notebook. <br />On GitHub, the HTML representation is unable to render, please try loading this page with nbviewer.org.</b></div><div class=\"sk-container\" hidden><div class=\"sk-item\"><div class=\"sk-estimator fitted sk-toggleable\"><input class=\"sk-toggleable__control sk-hidden--visually\" id=\"sk-estimator-id-1\" type=\"checkbox\" checked><label for=\"sk-estimator-id-1\" class=\"sk-toggleable__label fitted sk-toggleable__label-arrow fitted\">&nbsp;&nbsp;KNeighborsRegressor<a class=\"sk-estimator-doc-link fitted\" rel=\"noreferrer\" target=\"_blank\" href=\"https://scikit-learn.org/1.4/modules/generated/sklearn.neighbors.KNeighborsRegressor.html\">?<span>Documentation for KNeighborsRegressor</span></a><span class=\"sk-estimator-doc-link fitted\">i<span>Fitted</span></span></label><div class=\"sk-toggleable__content fitted\"><pre>KNeighborsRegressor(n_neighbors=10)</pre></div> </div></div></div></div>"
            ],
            "text/plain": [
              "KNeighborsRegressor(n_neighbors=10)"
            ]
          },
          "execution_count": 49,
          "metadata": {},
          "output_type": "execute_result"
        }
      ],
      "source": [
        "from sklearn.neighbors import KNeighborsRegressor\n",
        "\n",
        "# Initialize the KNN Regressor\n",
        "knn = KNeighborsRegressor(n_neighbors=10)  # You can start with k=5, but this can be tuned\n",
        "\n",
        "# Train the model\n",
        "knn.fit(X_train, y_train)"
      ]
    },
    {
      "cell_type": "code",
      "execution_count": 50,
      "metadata": {
        "id": "oYOz_Lz9ocp9"
      },
      "outputs": [],
      "source": [
        "# Make predictions\n",
        "y_pred = knn.predict(X_test)"
      ]
    },
    {
      "cell_type": "code",
      "execution_count": 51,
      "metadata": {
        "colab": {
          "base_uri": "https://localhost:8080/"
        },
        "id": "CbUue1w2onaK",
        "outputId": "7ecb7400-830f-49e5-c2c4-e94cc79f3fdb"
      },
      "outputs": [
        {
          "name": "stdout",
          "output_type": "stream",
          "text": [
            "Mean Absolute Error (MAE): 207627.46074498302\n",
            "Mean Squared Error (MSE): 578656763526.1459\n",
            "R-squared (R2) Score: 0.46301305185938224\n"
          ]
        }
      ],
      "source": [
        "# Calculate performance metrics for KNN\n",
        "mae = mean_absolute_error(y_test, y_pred)\n",
        "mse = mean_squared_error(y_test, y_pred)\n",
        "r2 = r2_score(y_test, y_pred)\n",
        "\n",
        "print(\"Mean Absolute Error (MAE):\", mae)\n",
        "print(\"Mean Squared Error (MSE):\", mse)\n",
        "print(\"R-squared (R2) Score:\", r2)\n"
      ]
    },
    {
      "cell_type": "markdown",
      "metadata": {
        "id": "ggNFM_UFXFAd"
      },
      "source": [
        "# Decision Tree"
      ]
    },
    {
      "cell_type": "code",
      "execution_count": 52,
      "metadata": {
        "colab": {
          "base_uri": "https://localhost:8080/"
        },
        "id": "3xhLCa8sXZRl",
        "outputId": "f9ab5721-3cc6-4b85-cbb3-fd5c092c7a2a"
      },
      "outputs": [
        {
          "name": "stdout",
          "output_type": "stream",
          "text": [
            "Mean Absolute Error (MAE): 234671.67329770856\n",
            "Mean Squared Error (MSE): 888031719168.4077\n",
            "R-squared (R2) Score: 0.17591658339484173\n"
          ]
        }
      ],
      "source": [
        "from sklearn.model_selection import train_test_split\n",
        "from sklearn.tree import DecisionTreeRegressor\n",
        "from sklearn.metrics import mean_absolute_error, mean_squared_error, r2_score\n",
        "# Initialize the Decision Tree Regressor\n",
        "model = DecisionTreeRegressor(random_state=42,max_depth=10)\n",
        "\n",
        "# Train the model\n",
        "model.fit(X_train, y_train)\n",
        "# Make predictions\n",
        "y_pred = model.predict(X_test)\n",
        "# Calculate performance metrics for Decision Tree\n",
        "mae = mean_absolute_error(y_test, y_pred)\n",
        "mse = mean_squared_error(y_test, y_pred)\n",
        "r2 = r2_score(y_test, y_pred)\n",
        "\n",
        "print(\"Mean Absolute Error (MAE):\", mae)\n",
        "print(\"Mean Squared Error (MSE):\", mse)\n",
        "print(\"R-squared (R2) Score:\", r2)"
      ]
    },
    {
      "cell_type": "markdown",
      "metadata": {},
      "source": [
        "Grid Search"
      ]
    },
    {
      "cell_type": "code",
      "execution_count": 53,
      "metadata": {},
      "outputs": [],
      "source": [
        "# from sklearn.ensemble import RandomForestRegressor\n",
        "# from sklearn.model_selection import GridSearchCV, train_test_split\n",
        "# param_grid = {\n",
        "#     'n_estimators': [50, 100, 200],\n",
        "#     'max_depth': [None, 10, 20, 30],\n",
        "#     'min_samples_split': [2, 5, 10],\n",
        "#     'min_samples_leaf': [1, 2, 4],\n",
        "#     'max_features': ['auto', 'sqrt', 'log2']\n",
        "# }\n",
        "# # Define the Random Forest Regressor\n",
        "# rf = RandomForestRegressor(random_state=42)\n",
        "# # Set up the Grid Search with 5-fold cross-validation\n",
        "# grid_search = GridSearchCV(estimator=rf, param_grid=param_grid, cv=5, scoring='neg_mean_squared_error', verbose=2)\n",
        "\n",
        "# # Fit the Grid Search to the training data\n",
        "# grid_search.fit(X_train, y_train)\n",
        "# # Get the best parameters and best model\n",
        "# best_params = grid_search.best_params_\n",
        "# best_model = grid_search.best_estimator_\n",
        "\n",
        "# print(f\"Best Parameters: {best_params}\")"
      ]
    },
    {
      "cell_type": "markdown",
      "metadata": {},
      "source": [
        "# Random forest"
      ]
    },
    {
      "cell_type": "code",
      "execution_count": 54,
      "metadata": {},
      "outputs": [
        {
          "name": "stdout",
          "output_type": "stream",
          "text": [
            "Mean Absolute Error (MAE): 224529.06928007226\n",
            "Mean Squared Error (MSE): 525598382678.2646\n",
            "R-squared (R2) Score: 0.5122506306810095\n"
          ]
        }
      ],
      "source": [
        "from sklearn.ensemble import RandomForestRegressor\n",
        "from sklearn.model_selection import GridSearchCV\n",
        "# Define the model\n",
        "rf = RandomForestRegressor()\n",
        "\n",
        "# Fit GridSearchCV to the data\n",
        "rf.fit(X_train, y_train)\n",
        "\n",
        "# Train the model \n",
        "best_rf = RandomForestRegressor(random_state=41,n_estimators=100,min_samples_leaf=2,max_depth=10)\n",
        "best_rf.fit(X_train, y_train)\n",
        "# Predict on the test set\n",
        "y_pred = best_rf.predict(X_test)\n",
        "\n",
        "# Calculate evaluation metrics\n",
        "mae = mean_absolute_error(y_test, y_pred)\n",
        "mse = mean_squared_error(y_test, y_pred)\n",
        "r2 = r2_score(y_test, y_pred)\n",
        "\n",
        "print(\"Mean Absolute Error (MAE):\", mae)\n",
        "print(\"Mean Squared Error (MSE):\", mse)\n",
        "print(\"R-squared (R2) Score:\", r2)\n"
      ]
    },
    {
      "cell_type": "markdown",
      "metadata": {},
      "source": [
        "# Pipeline"
      ]
    },
    {
      "cell_type": "code",
      "execution_count": 55,
      "metadata": {},
      "outputs": [
        {
          "name": "stdout",
          "output_type": "stream",
          "text": [
            "Linear Regression Pipeline:\n",
            "MAE: 322680.13, MSE: 831257166387.08, R2: 0.23\n"
          ]
        }
      ],
      "source": [
        "from sklearn.pipeline import Pipeline\n",
        "from sklearn.preprocessing import StandardScaler\n",
        "\n",
        "# Define a pipeline for Linear Regression\n",
        "pipeline_lr = Pipeline([\n",
        "    ('scaler', StandardScaler()),  # Standardize features\n",
        "    ('regressor', LinearRegression())  # Linear Regression model\n",
        "])\n",
        "\n",
        "# Fit the pipeline\n",
        "pipeline_lr.fit(X_train, y_train)\n",
        "\n",
        "# Predict using the pipeline\n",
        "y_pred_lr = pipeline_lr.predict(X_test)\n",
        "\n",
        "# Evaluate the model\n",
        "mae_lr = mean_absolute_error(y_test, y_pred_lr)\n",
        "mse_lr = mean_squared_error(y_test, y_pred_lr)\n",
        "r2_lr = r2_score(y_test, y_pred_lr)\n",
        "\n",
        "print(\"Linear Regression Pipeline:\")\n",
        "print(f\"MAE: {mae_lr:.2f}, MSE: {mse_lr:.2f}, R2: {r2_lr:.2f}\")"
      ]
    },
    {
      "cell_type": "code",
      "execution_count": 56,
      "metadata": {},
      "outputs": [
        {
          "name": "stdout",
          "output_type": "stream",
          "text": [
            "Decision tree Regression Pipeline:\n",
            "MAE: 234657.44, MSE: 887955525219.47, R2: 0.18\n"
          ]
        }
      ],
      "source": [
        "from sklearn.tree import DecisionTreeRegressor\n",
        "# Define a pipeline for decision tree Regression\n",
        "pipeline_rf = Pipeline([\n",
        "    ('scaler', StandardScaler()),  # Standardize features\n",
        "    ('regressor', DecisionTreeRegressor(max_depth=10, random_state=42))  #  model\n",
        "])\n",
        "\n",
        "# Fit the pipeline\n",
        "pipeline_rf.fit(X_train, y_train)\n",
        "\n",
        "# Predict using the pipeline\n",
        "y_pred_rf = pipeline_rf.predict(X_test)\n",
        "\n",
        "# Evaluate the model\n",
        "mae_rf = mean_absolute_error(y_test, y_pred_rf)\n",
        "mse_rf = mean_squared_error(y_test, y_pred_rf)\n",
        "r2_rf = r2_score(y_test, y_pred_rf)\n",
        "\n",
        "print(\"Decision tree Regression Pipeline:\")\n",
        "print(f\"MAE: {mae_rf:.2f}, MSE: {mse_rf:.2f}, R2: {r2_rf:.2f}\")\n"
      ]
    },
    {
      "cell_type": "code",
      "execution_count": 57,
      "metadata": {},
      "outputs": [
        {
          "name": "stdout",
          "output_type": "stream",
          "text": [
            "Knn Pipeline:\n",
            "MAE: 225011.19, MSE: 580875291353.39, R2: 0.46\n"
          ]
        }
      ],
      "source": [
        "from sklearn.neighbors import KNeighborsRegressor\n",
        "from sklearn.pipeline import Pipeline\n",
        "from sklearn.preprocessing import StandardScaler\n",
        "# Initialize the KNN Regressor\n",
        "# Define a pipeline for KNN Regression\n",
        "pipeline_Knn = Pipeline([\n",
        "    ('scaler', StandardScaler()),  # Standardize features\n",
        "    ('regressor', KNeighborsRegressor(n_neighbors=10))  # SVR model\n",
        "])\n",
        "\n",
        "# Fit the pipeline\n",
        "pipeline_Knn.fit(X_train, y_train)\n",
        "\n",
        "# Predict using the pipeline\n",
        "y_pred_Knn = pipeline_Knn.predict(X_test)\n",
        "\n",
        "# Evaluate the model\n",
        "mae_gb = mean_absolute_error(y_test, y_pred_Knn)\n",
        "mse_gb = mean_squared_error(y_test, y_pred_Knn)\n",
        "r2_gb = r2_score(y_test, y_pred_Knn)\n",
        "\n",
        "print(\"Knn Pipeline:\")\n",
        "print(f\"MAE: {mae_gb:.2f}, MSE: {mse_gb:.2f}, R2: {r2_gb:.2f}\")\n"
      ]
    },
    {
      "cell_type": "code",
      "execution_count": 58,
      "metadata": {},
      "outputs": [
        {
          "name": "stdout",
          "output_type": "stream",
          "text": [
            "Evaluation for Linear Regression Pipeline:\n",
            "MAE: 322680.13, MSE: 831257166387.08, R2: 0.23\n",
            "Evaluation for Random Forest Pipeline:\n",
            "MAE: 234657.44, MSE: 887955525219.47, R2: 0.18\n",
            "Evaluation for Knn Pipeline:\n",
            "MAE: 225011.19, MSE: 580875291353.39, R2: 0.46\n"
          ]
        }
      ],
      "source": [
        "def evaluate_model(y_test, y_pred):\n",
        "    mae = mean_absolute_error(y_test, y_pred)\n",
        "    mse = mean_squared_error(y_test, y_pred)\n",
        "    r2 = r2_score(y_test, y_pred)\n",
        "    print(f\"MAE: {mae:.2f}, MSE: {mse:.2f}, R2: {r2:.2f}\")\n",
        "\n",
        "# Evaluate Linear Regression Pipeline\n",
        "print(\"Evaluation for Linear Regression Pipeline:\")\n",
        "evaluate_model(y_test, y_pred_lr)\n",
        "\n",
        "# Evaluate Decision tree Pipeline\n",
        "print(\"Evaluation for Random Forest Pipeline:\")\n",
        "evaluate_model(y_test, y_pred_rf)\n",
        "\n",
        "# Evaluate Knn Pipeline\n",
        "print(\"Evaluation for Knn Pipeline:\")\n",
        "evaluate_model(y_test, y_pred_Knn)\n"
      ]
    },
    {
      "cell_type": "code",
      "execution_count": 59,
      "metadata": {},
      "outputs": [],
      "source": [
        "# conda install -c conda-forge tensorflow"
      ]
    },
    {
      "cell_type": "code",
      "execution_count": 60,
      "metadata": {},
      "outputs": [],
      "source": [
        "# !pip install tensorflow"
      ]
    },
    {
      "cell_type": "markdown",
      "metadata": {},
      "source": [
        "Random Forest Is The Best Model After Evaluation as It Give Less Error"
      ]
    },
    {
      "cell_type": "code",
      "execution_count": 61,
      "metadata": {
        "colab": {
          "base_uri": "https://localhost:8080/"
        },
        "id": "C94QFEwsY5O_",
        "outputId": "73fdaf76-dedd-4f97-d29a-cdeadc894227"
      },
      "outputs": [
        {
          "name": "stderr",
          "output_type": "stream",
          "text": [
            "C:\\Users\\OSAMA AHMED\\AppData\\Roaming\\Python\\Python312\\site-packages\\keras\\src\\layers\\core\\dense.py:87: UserWarning: Do not pass an `input_shape`/`input_dim` argument to a layer. When using Sequential models, prefer using an `Input(shape)` object as the first layer in the model instead.\n",
            "  super().__init__(activity_regularizer=activity_regularizer, **kwargs)\n"
          ]
        },
        {
          "name": "stdout",
          "output_type": "stream",
          "text": [
            "Epoch 1/20\n",
            "\u001b[1m19037/19037\u001b[0m \u001b[32m━━━━━━━━━━━━━━━━━━━━\u001b[0m\u001b[37m\u001b[0m \u001b[1m27s\u001b[0m 1ms/step - loss: 285500.1562 - val_loss: 267540.7812\n",
            "Epoch 2/20\n",
            "\u001b[1m19037/19037\u001b[0m \u001b[32m━━━━━━━━━━━━━━━━━━━━\u001b[0m\u001b[37m\u001b[0m \u001b[1m23s\u001b[0m 1ms/step - loss: 268393.9062 - val_loss: 266959.7188\n",
            "Epoch 3/20\n",
            "\u001b[1m19037/19037\u001b[0m \u001b[32m━━━━━━━━━━━━━━━━━━━━\u001b[0m\u001b[37m\u001b[0m \u001b[1m23s\u001b[0m 1ms/step - loss: 268831.5000 - val_loss: 264508.8125\n",
            "Epoch 4/20\n",
            "\u001b[1m19037/19037\u001b[0m \u001b[32m━━━━━━━━━━━━━━━━━━━━\u001b[0m\u001b[37m\u001b[0m \u001b[1m23s\u001b[0m 1ms/step - loss: 268900.4688 - val_loss: 263681.7812\n",
            "Epoch 5/20\n",
            "\u001b[1m19037/19037\u001b[0m \u001b[32m━━━━━━━━━━━━━━━━━━━━\u001b[0m\u001b[37m\u001b[0m \u001b[1m22s\u001b[0m 1ms/step - loss: 264786.0938 - val_loss: 263015.0000\n",
            "Epoch 6/20\n",
            "\u001b[1m19037/19037\u001b[0m \u001b[32m━━━━━━━━━━━━━━━━━━━━\u001b[0m\u001b[37m\u001b[0m \u001b[1m22s\u001b[0m 1ms/step - loss: 264170.5000 - val_loss: 262639.6250\n",
            "Epoch 7/20\n",
            "\u001b[1m19037/19037\u001b[0m \u001b[32m━━━━━━━━━━━━━━━━━━━━\u001b[0m\u001b[37m\u001b[0m \u001b[1m22s\u001b[0m 1ms/step - loss: 264794.8438 - val_loss: 261681.2344\n",
            "Epoch 8/20\n",
            "\u001b[1m19037/19037\u001b[0m \u001b[32m━━━━━━━━━━━━━━━━━━━━\u001b[0m\u001b[37m\u001b[0m \u001b[1m22s\u001b[0m 1ms/step - loss: 261692.7500 - val_loss: 261581.0781\n",
            "Epoch 9/20\n",
            "\u001b[1m19037/19037\u001b[0m \u001b[32m━━━━━━━━━━━━━━━━━━━━\u001b[0m\u001b[37m\u001b[0m \u001b[1m23s\u001b[0m 1ms/step - loss: 261902.4688 - val_loss: 259917.5938\n",
            "Epoch 10/20\n",
            "\u001b[1m19037/19037\u001b[0m \u001b[32m━━━━━━━━━━━━━━━━━━━━\u001b[0m\u001b[37m\u001b[0m \u001b[1m23s\u001b[0m 1ms/step - loss: 260659.8594 - val_loss: 259382.0156\n",
            "Epoch 11/20\n",
            "\u001b[1m19037/19037\u001b[0m \u001b[32m━━━━━━━━━━━━━━━━━━━━\u001b[0m\u001b[37m\u001b[0m \u001b[1m23s\u001b[0m 1ms/step - loss: 261834.0625 - val_loss: 259328.3906\n",
            "Epoch 12/20\n",
            "\u001b[1m19037/19037\u001b[0m \u001b[32m━━━━━━━━━━━━━━━━━━━━\u001b[0m\u001b[37m\u001b[0m \u001b[1m22s\u001b[0m 1ms/step - loss: 258343.0781 - val_loss: 259876.1406\n",
            "Epoch 13/20\n",
            "\u001b[1m19037/19037\u001b[0m \u001b[32m━━━━━━━━━━━━━━━━━━━━\u001b[0m\u001b[37m\u001b[0m \u001b[1m23s\u001b[0m 1ms/step - loss: 257357.2969 - val_loss: 259748.7188\n",
            "Epoch 14/20\n",
            "\u001b[1m19037/19037\u001b[0m \u001b[32m━━━━━━━━━━━━━━━━━━━━\u001b[0m\u001b[37m\u001b[0m \u001b[1m24s\u001b[0m 1ms/step - loss: 257689.1094 - val_loss: 258874.9062\n",
            "Epoch 15/20\n",
            "\u001b[1m19037/19037\u001b[0m \u001b[32m━━━━━━━━━━━━━━━━━━━━\u001b[0m\u001b[37m\u001b[0m \u001b[1m24s\u001b[0m 1ms/step - loss: 259474.0781 - val_loss: 258600.6250\n",
            "Epoch 16/20\n",
            "\u001b[1m19037/19037\u001b[0m \u001b[32m━━━━━━━━━━━━━━━━━━━━\u001b[0m\u001b[37m\u001b[0m \u001b[1m24s\u001b[0m 1ms/step - loss: 261433.6719 - val_loss: 257965.6250\n",
            "Epoch 17/20\n",
            "\u001b[1m19037/19037\u001b[0m \u001b[32m━━━━━━━━━━━━━━━━━━━━\u001b[0m\u001b[37m\u001b[0m \u001b[1m24s\u001b[0m 1ms/step - loss: 261390.6094 - val_loss: 256827.5312\n",
            "Epoch 18/20\n",
            "\u001b[1m19037/19037\u001b[0m \u001b[32m━━━━━━━━━━━━━━━━━━━━\u001b[0m\u001b[37m\u001b[0m \u001b[1m24s\u001b[0m 1ms/step - loss: 257707.9688 - val_loss: 256762.4688\n",
            "Epoch 19/20\n",
            "\u001b[1m19037/19037\u001b[0m \u001b[32m━━━━━━━━━━━━━━━━━━━━\u001b[0m\u001b[37m\u001b[0m \u001b[1m24s\u001b[0m 1ms/step - loss: 260436.4062 - val_loss: 256011.3594\n",
            "Epoch 20/20\n",
            "\u001b[1m19037/19037\u001b[0m \u001b[32m━━━━━━━━━━━━━━━━━━━━\u001b[0m\u001b[37m\u001b[0m \u001b[1m23s\u001b[0m 1ms/step - loss: 260412.2031 - val_loss: 255860.8281\n",
            "\u001b[1m10199/10199\u001b[0m \u001b[32m━━━━━━━━━━━━━━━━━━━━\u001b[0m\u001b[37m\u001b[0m \u001b[1m8s\u001b[0m 799us/step\n"
          ]
        }
      ],
      "source": [
        "import pandas as pd\n",
        "import tensorflow as tf\n",
        "from sklearn.model_selection import train_test_split\n",
        "from sklearn.preprocessing import StandardScaler\n",
        "from sklearn.metrics import mean_absolute_error, mean_squared_error, r2_score\n",
        "from tensorflow.keras.models import Sequential\n",
        "from tensorflow.keras.layers import Dense\n",
        "# Initialize the neural network model\n",
        "model = Sequential()\n",
        "\n",
        "# Add input layer and first hidden layer\n",
        "model.add(Dense(units=64, activation='relu', input_dim=X_train.shape[1]))\n",
        "\n",
        "# Add additional hidden layers\n",
        "model.add(Dense(units=32, activation='relu'))\n",
        "model.add(Dense(units=16, activation='relu'))\n",
        "\n",
        "# Add output layer\n",
        "model.add(Dense(units=1, activation='linear'))\n",
        "\n",
        "# Compile the model\n",
        "model.compile(optimizer='adam', loss='mean_absolute_error')\n",
        "# Train the model\n",
        "history = model.fit(X_train, y_train, epochs=20, batch_size=32, validation_split=0.2, verbose=1)\n",
        "# Make predictions\n",
        "y_pred = model.predict(X_test)\n"
      ]
    },
    {
      "cell_type": "code",
      "execution_count": 62,
      "metadata": {
        "colab": {
          "base_uri": "https://localhost:8080/"
        },
        "id": "LsfVj5PkZ_ZE",
        "outputId": "43b3a194-c5a9-4ee8-c69f-d9280b7c12b2"
      },
      "outputs": [
        {
          "name": "stdout",
          "output_type": "stream",
          "text": [
            "Mean Absolute Error (MAE): 255344.55662616104\n",
            "Mean Squared Error (MSE): 863862074148.8043\n",
            "R-squared (R2) Score: 0.19834574129084626\n"
          ]
        }
      ],
      "source": [
        "# Calculate performance metrics for neural network\n",
        "mae = mean_absolute_error(y_test, y_pred)\n",
        "mse = mean_squared_error(y_test, y_pred)\n",
        "r2 = r2_score(y_test, y_pred)\n",
        "\n",
        "print(\"Mean Absolute Error (MAE):\", mae)\n",
        "print(\"Mean Squared Error (MSE):\", mse)\n",
        "print(\"R-squared (R2) Score:\", r2)\n"
      ]
    },
    {
      "cell_type": "code",
      "execution_count": 63,
      "metadata": {
        "colab": {
          "base_uri": "https://localhost:8080/",
          "height": 472
        },
        "id": "68M9Az4haFQ4",
        "outputId": "894aaa68-59ac-4886-fb6c-c763703be66b"
      },
      "outputs": [
        {
          "data": {
            "image/png": "[encoded data removed]",
            "text/plain": [
              "<Figure size 640x480 with 1 Axes>"
            ]
          },
          "metadata": {},
          "output_type": "display_data"
        }
      ],
      "source": [
        "import matplotlib.pyplot as plt\n",
        "\n",
        "# Plot the training and validation loss curves\n",
        "plt.plot(history.history['loss'])\n",
        "plt.plot(history.history['val_loss'])\n",
        "# Set plot title and labels\n",
        "plt.title('Model loss')\n",
        "plt.xlabel('Epoch')\n",
        "plt.ylabel('Loss')\n",
        "# Add a legend to distinguish between the curves\n",
        "plt.legend(['Train', 'Validation'], loc='upper right')\n",
        "# Display the plot\n",
        "plt.show()\n"
      ]
    },
    {
      "cell_type": "markdown",
      "metadata": {
        "id": "tAE4yORpwrR2"
      },
      "source": [
        "# Deployment"
      ]
    },
    {
      "cell_type": "code",
      "execution_count": 64,
      "metadata": {
        "colab": {
          "base_uri": "https://localhost:8080/"
        },
        "id": "U8rVAgcCwPvr",
        "outputId": "150dac52-72a9-45ac-f428-874c752cea25"
      },
      "outputs": [
        {
          "data": {
            "text/plain": [
              "['best_rf.pkl']"
            ]
          },
          "execution_count": 64,
          "metadata": {},
          "output_type": "execute_result"
        }
      ],
      "source": [
        "import joblib\n",
        "# Save the trained model to a .pkl file using joblib\n",
        "joblib.dump(best_rf, 'best_rf.pkl')"
      ]
    },
    {
      "cell_type": "markdown",
      "metadata": {},
      "source": [
        "# The End"
      ]
    }
  ],
  "metadata": {
    "colab": {
      "provenance": []
    },
    "kernelspec": {
      "display_name": "Python 3",
      "name": "python3"
    },
    "language_info": {
      "codemirror_mode": {
        "name": "ipython",
        "version": 3
      },
      "file_extension": ".py",
      "mimetype": "text/x-python",
      "name": "python",
      "nbconvert_exporter": "python",
      "pygments_lexer": "ipython3",
      "version": "3.12.4"
    }
  },
  "nbformat": 4,
  "nbformat_minor": 0
}
